{
 "cells": [
  {
   "cell_type": "code",
   "execution_count": 1,
   "id": "ef1488ef-bfda-4ba2-92c2-13bc89c6dfa1",
   "metadata": {},
   "outputs": [],
   "source": [
    "import os\n",
    "import glob\n",
    "import shutil\n",
    "import random\n",
    "import xml.etree.ElementTree as ET\n",
    "from PIL import Image\n",
    "from ultralytics import YOLO\n",
    "import torch"
   ]
  },
  {
   "cell_type": "code",
   "execution_count": 2,
   "id": "2dd6c577",
   "metadata": {},
   "outputs": [
    {
     "name": "stdout",
     "output_type": "stream",
     "text": [
      "INFO:\n",
      "\n",
      "Logical CPU threads available: 16\n",
      "PyTorch version: 2.7.0+cu118\n",
      "CUDA available: True\n",
      "CUDA version: 11.8\n",
      "Device: NVIDIA GeForce RTX 4070 SUPER\n"
     ]
    }
   ],
   "source": [
    "print(\"INFO:\\n\")\n",
    "print(f\"Logical CPU threads available: {os.cpu_count()}\")\n",
    "print(\"PyTorch version:\", torch.__version__)\n",
    "\n",
    "cuda_available = torch.cuda.is_available()\n",
    "print(\"CUDA available:\", cuda_available)\n",
    "if cuda_available:\n",
    "    print(\"CUDA version:\", torch.version.cuda)\n",
    "    print(\"Device:\", torch.cuda.get_device_name(0))\n"
   ]
  },
  {
   "cell_type": "code",
   "execution_count": 3,
   "id": "098d62b9",
   "metadata": {},
   "outputs": [],
   "source": [
    "IMAGE_DIR = \"images\"                 # Directory containing PNG images\n",
    "XML_DIR = \"annotations\"              # Directory containing XML annotations\n",
    "OUTPUT_DIR = \"yolo_dataset\"          # Directory to save the prepared dataset\n",
    "\n",
    "# Create output directories\n",
    "os.makedirs(os.path.join(OUTPUT_DIR, \"images\", \"train\"), exist_ok=True)\n",
    "os.makedirs(os.path.join(OUTPUT_DIR, \"images\", \"val\"), exist_ok=True)\n",
    "os.makedirs(os.path.join(OUTPUT_DIR, \"labels\", \"train\"), exist_ok=True)\n",
    "os.makedirs(os.path.join(OUTPUT_DIR, \"labels\", \"val\"), exist_ok=True)"
   ]
  },
  {
   "cell_type": "code",
   "execution_count": 4,
   "id": "f733261a",
   "metadata": {},
   "outputs": [
    {
     "name": "stdout",
     "output_type": "stream",
     "text": [
      "Found 200 unique brick classes: ['10247', '11090', '11211', '11212', '11214', '11458', '11476', '11477', '14704', '14719', '14769', '15068', '15070', '15100', '15379', '15392', '15535', '15573', '15712', '18651', '18654', '18674', '18677', '20482', '22388', '22885', '2357', '2412b', '2420', '24201', '24246', '2429', '2430', '2431', '2432', '2436', '2445', '2450', '2454', '2456', '24866', '25269', '2540', '26047', '2654', '26601', '26603', '26604', '2780', '27925', '28192', '2877', '3001', '3002', '3003', '3004', '3005', '3008', '3009', '3010', '30136', '3020', '3021', '3022', '3023', '3024', '3031', '3032', '3034', '3035', '3037', '30374', '3039', '3040', '30413', '30414', '3062b', '3065', '3068b', '3069b', '3070b', '32000', '32013', '32028', '32054', '32062', '32064', '32073', '32123', '32140', '32184', '32278', '32316', '3245c', '32523', '32524', '32525', '32526', '32607', '32952', '33291', '33909', '34103', '3460', '35480', '3622', '3623', '3660', '3665', '3666', '3673', '3700', '3701', '3705', '3710', '3713', '3749', '3795', '3832', '3937', '3941', '3958', '4032', '40490', '4070', '4073', '4081b', '4085', '4162', '41677', '41740', '41769', '41770', '42003', '4274', '4286', '43093', '43722', '43723', '44728', '4477', '4519', '4589', '4599b', '4740', '47457', '48336', '4865', '48729', '49668', '50950', '51739', '53451', '54200', '59443', '60470', '60474', '60478', '60479', '60481', '60483', '60592', '60601', '6091', '61252', '6134', '61409', '61678', '62462', '63864', '63868', '63965', '64644', '6536', '6541', '6558', '6632', '6636', '85080', '85861', '85984', '87079', '87083', '87087', '87552', '87580', '87620', '87994', '88072', '88323', '92280', '92946', '93273', '98138', '98283', '99206', '99207', '99563', '99780', '99781']\n"
     ]
    }
   ],
   "source": [
    "class_names = set()\n",
    "for xml_file in glob.glob(os.path.join(XML_DIR, \"*.xml\")):\n",
    "    tree = ET.parse(xml_file)\n",
    "    root = tree.getroot()\n",
    "    \n",
    "    for obj in root.findall('object'):\n",
    "        class_name = obj.find('name').text\n",
    "        class_names.add(class_name)\n",
    "\n",
    "class_names = sorted(list(class_names))\n",
    "\n",
    "print(f\"Found {len(class_names)} unique brick classes: {class_names}\")"
   ]
  },
  {
   "cell_type": "code",
   "execution_count": null,
   "id": "7dd345af",
   "metadata": {},
   "outputs": [],
   "source": [
    "def xml_to_yolo_label(xml_file, image_width, image_height):\n",
    "    tree = ET.parse(xml_file)\n",
    "    root = tree.getroot()\n",
    "    \n",
    "    yolo_annotations = []\n",
    "    \n",
    "    for obj in root.findall('object'):\n",
    "        # Get class name\n",
    "        class_name = obj.find('name').text\n",
    "        \n",
    "        # Get bounding box coordinates\n",
    "        bndbox = obj.find('bndbox')\n",
    "        xmin = float(bndbox.find('xmin').text)\n",
    "        ymin = float(bndbox.find('ymin').text)\n",
    "        xmax = float(bndbox.find('xmax').text)\n",
    "        ymax = float(bndbox.find('ymax').text)\n",
    "        \n",
    "        # Convert to YOLO format (normalized center_x, center_y, width, height)\n",
    "        x_center = ((xmin + xmax) / 2) / image_width\n",
    "        y_center = ((ymin + ymax) / 2) / image_height\n",
    "        width = (xmax - xmin) / image_width\n",
    "        height = (ymax - ymin) / image_height\n",
    "        \n",
    "        # Format: class_id_index center_x center_y width height\n",
    "        yolo_annotations.append(f\"{class_names.index(class_name)} {x_center} {y_center} {width} {height}\")\n",
    "    \n",
    "    return yolo_annotations"
   ]
  },
  {
   "cell_type": "code",
   "execution_count": null,
   "id": "4f99e847",
   "metadata": {},
   "outputs": [],
   "source": [
    "# Get all image files\n",
    "image_files = sorted(glob.glob(os.path.join(IMAGE_DIR, \"*.png\")))\n",
    "print(f\"Found {len(image_files)} image files\")\n",
    "\n",
    "# Randomly split into train and validation sets (80:20)\n",
    "random.seed(42)  # for reproducibility\n",
    "random.shuffle(image_files)\n",
    "split_idx = int(0.8 * len(image_files))\n",
    "train_images = image_files[:split_idx]\n",
    "test_images = image_files[split_idx:]\n",
    "\n",
    "print(f\"Training images: {len(train_images)}\")\n",
    "print(f\"Validation images: {len(test_images)}\")\n",
    "\n",
    "# Process the images and annotations\n",
    "def process_dataset(image_files, dataset_type):\n",
    "    for img_path in image_files:\n",
    "\n",
    "        # Get image filename without extension\n",
    "        img_filename = os.path.basename(img_path)\n",
    "        img_name = os.path.splitext(img_filename)[0]\n",
    "        \n",
    "        # Load the image to get dimensions\n",
    "        img = Image.open(img_path)\n",
    "        img_width, img_height = img.size\n",
    "        \n",
    "        # Find the corresponding XML file\n",
    "        xml_path = os.path.join(XML_DIR, f\"{img_name}.xml\")\n",
    "        \n",
    "        if os.path.exists(xml_path):\n",
    "            \n",
    "            # Copy image to dataset directory\n",
    "            output_img_path = os.path.join(OUTPUT_DIR, \"images\", dataset_type, img_filename)\n",
    "            shutil.copy(img_path, output_img_path)\n",
    "\n",
    "            # Convert annotations to YOLO labels\n",
    "            yolo_annotations = xml_to_yolo_label(xml_path, img_width, img_height)\n",
    "            \n",
    "            # Save YOLO annotations\n",
    "            output_label_path = os.path.join(OUTPUT_DIR, \"labels\", dataset_type, f\"{img_name}.txt\")\n",
    "            with open(output_label_path, \"w\") as f:\n",
    "                f.write(\"\\n\".join(yolo_annotations))\n",
    "        else:\n",
    "            print(f\"Warning: XML file not found for {img_path}\")\n",
    "\n",
    "# Process training and validation sets\n",
    "process_dataset(train_images, \"train\")\n",
    "process_dataset(test_images, \"val\")"
   ]
  },
  {
   "cell_type": "code",
   "execution_count": 8,
   "id": "99606a43",
   "metadata": {},
   "outputs": [
    {
     "name": "stdout",
     "output_type": "stream",
     "text": [
      "Dataset preparation complete!\n"
     ]
    }
   ],
   "source": [
    "# Create dataset.yaml file\n",
    "yaml_content = f\"\"\"\n",
    "# YOLO dataset configuration\n",
    "path: {os.path.abspath(OUTPUT_DIR)}\n",
    "train: images/train\n",
    "val: images/val\n",
    "\n",
    "# Classes\n",
    "nc: {len(class_names)}\n",
    "names: {class_names}\n",
    "\"\"\"\n",
    "\n",
    "with open(os.path.join(OUTPUT_DIR, \"dataset.yaml\"), \"w\") as f:\n",
    "    f.write(yaml_content)\n",
    "\n",
    "print(\"Dataset preparation complete!\")"
   ]
  },
  {
   "cell_type": "code",
   "execution_count": null,
   "id": "f2a9dcea",
   "metadata": {},
   "outputs": [
    {
     "name": "stdout",
     "output_type": "stream",
     "text": [
      "New https://pypi.org/project/ultralytics/8.3.142 available  Update with 'pip install -U ultralytics'\n",
      "Ultralytics 8.3.137  Python-3.12.4 torch-2.7.0+cu118 CUDA:0 (NVIDIA GeForce RTX 4070 SUPER, 12282MiB)\n",
      "\u001b[34m\u001b[1mengine\\trainer: \u001b[0magnostic_nms=False, amp=True, augment=False, auto_augment=randaugment, batch=2, bgr=0.0, box=7.5, cache=False, cfg=None, classes=None, close_mosaic=10, cls=0.5, conf=None, copy_paste=0.0, copy_paste_mode=flip, cos_lr=False, cutmix=0.0, data=yolo_dataset\\dataset.yaml, degrees=0.0, deterministic=True, device=0, dfl=1.5, dnn=False, dropout=0.0, dynamic=False, embed=None, epochs=500, erasing=0.4, exist_ok=False, fliplr=0.5, flipud=0.0, format=torchscript, fraction=1.0, freeze=None, half=False, hsv_h=0.015, hsv_s=0.7, hsv_v=0.4, imgsz=1024, int8=False, iou=0.7, keras=False, kobj=1.0, line_width=None, lr0=0.01, lrf=0.01, mask_ratio=4, max_det=300, mixup=0.0, mode=train, model=yolov8m.pt, momentum=0.937, mosaic=1.0, multi_scale=False, name=lego_yolo8m5, nbs=64, nms=False, opset=None, optimize=False, optimizer=auto, overlap_mask=True, patience=20, perspective=0.0, plots=True, pose=12.0, pretrained=True, profile=False, project=yolo_dataset, rect=False, resume=False, retina_masks=False, save=True, save_conf=False, save_crop=False, save_dir=yolo_dataset\\lego_yolo8m5, save_frames=False, save_json=False, save_period=-1, save_txt=False, scale=0.5, seed=0, shear=0.0, show=False, show_boxes=True, show_conf=True, show_labels=True, simplify=True, single_cls=False, source=None, split=val, stream_buffer=False, task=detect, time=None, tracker=botsort.yaml, translate=0.1, val=True, verbose=True, vid_stride=1, visualize=False, warmup_bias_lr=0.1, warmup_epochs=3.0, warmup_momentum=0.8, weight_decay=0.0005, workers=8, workspace=None\n",
      "Overriding model.yaml nc=80 with nc=200\n",
      "\n",
      "                   from  n    params  module                                       arguments                     \n",
      "  0                  -1  1      1392  ultralytics.nn.modules.conv.Conv             [3, 48, 3, 2]                 \n",
      "  1                  -1  1     41664  ultralytics.nn.modules.conv.Conv             [48, 96, 3, 2]                \n",
      "  2                  -1  2    111360  ultralytics.nn.modules.block.C2f             [96, 96, 2, True]             \n",
      "  3                  -1  1    166272  ultralytics.nn.modules.conv.Conv             [96, 192, 3, 2]               \n",
      "  4                  -1  4    813312  ultralytics.nn.modules.block.C2f             [192, 192, 4, True]           \n",
      "  5                  -1  1    664320  ultralytics.nn.modules.conv.Conv             [192, 384, 3, 2]              \n",
      "  6                  -1  4   3248640  ultralytics.nn.modules.block.C2f             [384, 384, 4, True]           \n",
      "  7                  -1  1   1991808  ultralytics.nn.modules.conv.Conv             [384, 576, 3, 2]              \n",
      "  8                  -1  2   3985920  ultralytics.nn.modules.block.C2f             [576, 576, 2, True]           \n",
      "  9                  -1  1    831168  ultralytics.nn.modules.block.SPPF            [576, 576, 5]                 \n",
      " 10                  -1  1         0  torch.nn.modules.upsampling.Upsample         [None, 2, 'nearest']          \n",
      " 11             [-1, 6]  1         0  ultralytics.nn.modules.conv.Concat           [1]                           \n",
      " 12                  -1  2   1993728  ultralytics.nn.modules.block.C2f             [960, 384, 2]                 \n",
      " 13                  -1  1         0  torch.nn.modules.upsampling.Upsample         [None, 2, 'nearest']          \n",
      " 14             [-1, 4]  1         0  ultralytics.nn.modules.conv.Concat           [1]                           \n",
      " 15                  -1  2    517632  ultralytics.nn.modules.block.C2f             [576, 192, 2]                 \n",
      " 16                  -1  1    332160  ultralytics.nn.modules.conv.Conv             [192, 192, 3, 2]              \n",
      " 17            [-1, 12]  1         0  ultralytics.nn.modules.conv.Concat           [1]                           \n",
      " 18                  -1  2   1846272  ultralytics.nn.modules.block.C2f             [576, 384, 2]                 \n",
      " 19                  -1  1   1327872  ultralytics.nn.modules.conv.Conv             [384, 384, 3, 2]              \n",
      " 20             [-1, 9]  1         0  ultralytics.nn.modules.conv.Concat           [1]                           \n",
      " 21                  -1  2   4207104  ultralytics.nn.modules.block.C2f             [960, 576, 2]                 \n",
      " 22        [15, 18, 21]  1   3891496  ultralytics.nn.modules.head.Detect           [200, [192, 384, 576]]        \n",
      "Model summary: 169 layers, 25,972,120 parameters, 25,972,104 gradients, 79.7 GFLOPs\n",
      "\n",
      "Transferred 469/475 items from pretrained weights\n",
      "Freezing layer 'model.22.dfl.conv.weight'\n",
      "\u001b[34m\u001b[1mAMP: \u001b[0mrunning Automatic Mixed Precision (AMP) checks...\n",
      "\u001b[34m\u001b[1mAMP: \u001b[0mchecks passed \n",
      "\u001b[34m\u001b[1mtrain: \u001b[0mFast image access  (ping: 0.80.1 ms, read: 288.49.1 MB/s, size: 7921.8 KB)\n"
     ]
    },
    {
     "name": "stderr",
     "output_type": "stream",
     "text": [
      "\u001b[34m\u001b[1mtrain: \u001b[0mScanning D:\\GitHub\\MainProject\\yolo_dataset\\labels\\train... 1600 images, 0 backgrounds, 0 corrupt: 100%|██████████| 1600/1600 [00:29<00:00, 53.53it/s]\n"
     ]
    },
    {
     "name": "stdout",
     "output_type": "stream",
     "text": [
      "\u001b[34m\u001b[1mtrain: \u001b[0mNew cache created: D:\\GitHub\\MainProject\\yolo_dataset\\labels\\train.cache\n",
      "\u001b[34m\u001b[1mval: \u001b[0mFast image access  (ping: 0.60.2 ms, read: 236.245.2 MB/s, size: 7508.7 KB)\n"
     ]
    },
    {
     "name": "stderr",
     "output_type": "stream",
     "text": [
      "\u001b[34m\u001b[1mval: \u001b[0mScanning D:\\GitHub\\MainProject\\yolo_dataset\\labels\\val... 400 images, 0 backgrounds, 0 corrupt: 100%|██████████| 400/400 [00:06<00:00, 60.19it/s]"
     ]
    },
    {
     "name": "stdout",
     "output_type": "stream",
     "text": [
      "\u001b[34m\u001b[1mval: \u001b[0mNew cache created: D:\\GitHub\\MainProject\\yolo_dataset\\labels\\val.cache\n"
     ]
    },
    {
     "name": "stderr",
     "output_type": "stream",
     "text": [
      "\n"
     ]
    },
    {
     "name": "stdout",
     "output_type": "stream",
     "text": [
      "Plotting labels to yolo_dataset\\lego_yolo8m5\\labels.jpg... \n",
      "\u001b[34m\u001b[1moptimizer:\u001b[0m 'optimizer=auto' found, ignoring 'lr0=0.01' and 'momentum=0.937' and determining best 'optimizer', 'lr0' and 'momentum' automatically... \n",
      "\u001b[34m\u001b[1moptimizer:\u001b[0m SGD(lr=0.01, momentum=0.9) with parameter groups 77 weight(decay=0.0), 84 weight(decay=0.0005), 83 bias(decay=0.0)\n",
      "Image sizes 1024 train, 1024 val\n",
      "Using 8 dataloader workers\n",
      "Logging results to \u001b[1myolo_dataset\\lego_yolo8m5\u001b[0m\n",
      "Starting training for 500 epochs...\n",
      "\n",
      "      Epoch    GPU_mem   box_loss   cls_loss   dfl_loss  Instances       Size\n"
     ]
    },
    {
     "name": "stderr",
     "output_type": "stream",
     "text": [
      "      1/500      8.14G     0.8444      3.738     0.9136       1292       1024: 100%|██████████| 800/800 [01:40<00:00,  7.98it/s]\n",
      "                 Class     Images  Instances      Box(P          R      mAP50  mAP50-95): 100%|██████████| 100/100 [00:18<00:00,  5.48it/s]\n"
     ]
    },
    {
     "name": "stdout",
     "output_type": "stream",
     "text": [
      "                   all        400     160000       0.26      0.265      0.246      0.222\n",
      "\n",
      "      Epoch    GPU_mem   box_loss   cls_loss   dfl_loss  Instances       Size\n"
     ]
    },
    {
     "name": "stderr",
     "output_type": "stream",
     "text": [
      "      2/500      12.6G     0.7919      2.058     0.8663        859       1024: 100%|██████████| 800/800 [05:02<00:00,  2.64it/s]\n",
      "                 Class     Images  Instances      Box(P          R      mAP50  mAP50-95): 100%|██████████| 100/100 [01:01<00:00,  1.62it/s]\n"
     ]
    },
    {
     "name": "stdout",
     "output_type": "stream",
     "text": [
      "                   all        400     160000      0.372      0.335      0.344      0.301\n",
      "\n",
      "      Epoch    GPU_mem   box_loss   cls_loss   dfl_loss  Instances       Size\n"
     ]
    },
    {
     "name": "stderr",
     "output_type": "stream",
     "text": [
      "      3/500      10.4G      0.828       1.74     0.8707        371       1024: 100%|██████████| 800/800 [01:49<00:00,  7.29it/s]\n",
      "                 Class     Images  Instances      Box(P          R      mAP50  mAP50-95): 100%|██████████| 100/100 [00:16<00:00,  5.95it/s]\n"
     ]
    },
    {
     "name": "stdout",
     "output_type": "stream",
     "text": [
      "                   all        400     160000      0.528      0.416      0.476      0.405\n",
      "\n",
      "      Epoch    GPU_mem   box_loss   cls_loss   dfl_loss  Instances       Size\n"
     ]
    },
    {
     "name": "stderr",
     "output_type": "stream",
     "text": [
      "      4/500      8.32G     0.8362      1.529     0.8678        824       1024: 100%|██████████| 800/800 [01:36<00:00,  8.29it/s]\n",
      "                 Class     Images  Instances      Box(P          R      mAP50  mAP50-95): 100%|██████████| 100/100 [00:18<00:00,  5.41it/s]\n"
     ]
    },
    {
     "name": "stdout",
     "output_type": "stream",
     "text": [
      "                   all        400     160000      0.648      0.503      0.584      0.483\n",
      "\n",
      "      Epoch    GPU_mem   box_loss   cls_loss   dfl_loss  Instances       Size\n"
     ]
    },
    {
     "name": "stderr",
     "output_type": "stream",
     "text": [
      "      5/500      5.52G     0.8115      1.378      0.855        530       1024:   5%|▌         | 42/800 [00:05<01:32,  8.23it/s]"
     ]
    }
   ],
   "source": [
    "# Select base model\n",
    "model = YOLO('yolov8m.pt')\n",
    "\n",
    "# Clear cache\n",
    "if cuda_available:\n",
    "    torch.cuda.empty_cache()\n",
    "\n",
    "# Start training\n",
    "results = model.train(\n",
    "    data=os.path.join(OUTPUT_DIR, \"dataset.yaml\"),\n",
    "    epochs=500,\n",
    "    imgsz=1024,\n",
    "    batch=-1,\n",
    "    patience=20,\n",
    "    device='cuda',\n",
    "    project=OUTPUT_DIR,\n",
    "    name='lego_yolo8m'\n",
    ")"
   ]
  },
  {
   "cell_type": "code",
   "execution_count": 5,
   "id": "3454644d",
   "metadata": {},
   "outputs": [
    {
     "name": "stdout",
     "output_type": "stream",
     "text": [
      "Ultralytics 8.3.137  Python-3.12.4 torch-2.7.0+cu118 CUDA:0 (NVIDIA GeForce RTX 4070 SUPER, 12282MiB)\n",
      "Model summary (fused): 92 layers, 25,955,560 parameters, 0 gradients, 79.3 GFLOPs\n",
      "\u001b[34m\u001b[1mval: \u001b[0mFast image access  (ping: 0.10.1 ms, read: 2802.6329.8 MB/s, size: 7577.3 KB)\n"
     ]
    },
    {
     "name": "stderr",
     "output_type": "stream",
     "text": [
      "\u001b[34m\u001b[1mval: \u001b[0mScanning D:\\GitHub\\MainProject\\dataset\\labels\\val.cache... 400 images, 0 backgrounds, 0 corrupt: 100%|██████████| 400/400 [00:00<?, ?it/s]\n",
      "                 Class     Images  Instances      Box(P          R      mAP50  mAP50-95): 100%|██████████| 200/200 [01:00<00:00,  3.30it/s]\n"
     ]
    },
    {
     "name": "stdout",
     "output_type": "stream",
     "text": [
      "                   all        400     160000      0.888      0.681      0.795      0.725\n",
      "                 10247        400        800      0.891      0.694      0.821       0.77\n",
      "                 11090        400        800      0.941       0.58      0.763       0.63\n",
      "                 11211        400        800      0.743      0.379      0.575      0.527\n",
      "                 11212        400        800      0.996       0.97      0.985      0.962\n",
      "                 11214        400        800      0.749      0.335      0.542      0.492\n",
      "                 11458        400        800       0.91      0.542      0.741      0.674\n",
      "                 11476        400        800       0.79      0.695      0.771      0.698\n",
      "                 11477        400        800      0.749      0.321      0.542      0.483\n",
      "                 14704        400        800      0.966       0.77      0.879      0.792\n",
      "                 14719        400        800      0.943      0.889      0.931      0.866\n",
      "                 14769        400        800       0.97      0.881      0.936      0.867\n",
      "                 15068        400        800      0.934      0.795      0.885      0.828\n",
      "                 15070        400        800      0.943      0.435      0.693      0.565\n",
      "                 15100        400        800      0.946       0.76      0.866      0.736\n",
      "                 15379        400        800      0.972      0.907      0.951      0.808\n",
      "                 15392        400        800       0.85      0.434      0.649      0.522\n",
      "                 15535        400        800      0.922      0.801       0.88       0.82\n",
      "                 15573        400        800      0.888      0.641       0.79      0.721\n",
      "                 15712        400        800      0.782      0.349      0.573      0.459\n",
      "                 18651        400        800       0.74      0.391      0.573      0.501\n",
      "                 18654        400        800      0.932       0.31      0.623      0.522\n",
      "                 18674        400        800      0.838       0.59      0.721      0.652\n",
      "                 18677        400        800       0.82      0.507      0.671      0.592\n",
      "                 20482        400        800      0.921      0.174      0.548      0.426\n",
      "                 22388        400        800      0.888      0.139      0.515      0.436\n",
      "                 22885        400        800      0.933      0.806      0.883      0.842\n",
      "                  2357        400        800      0.953      0.829      0.906      0.837\n",
      "                 2412b        400        800      0.937      0.914      0.947      0.839\n",
      "                  2420        400        800      0.902       0.87      0.915      0.846\n",
      "                 24201        400        800      0.723      0.512       0.64      0.554\n",
      "                 24246        400        800      0.924      0.474      0.709      0.604\n",
      "                  2429        400        800      0.857      0.704      0.807      0.724\n",
      "                  2430        400        800      0.962      0.657      0.819      0.743\n",
      "                  2431        400        800      0.847      0.789      0.857       0.83\n",
      "                  2432        400        800      0.985      0.824       0.91      0.831\n",
      "                  2436        400        800      0.983      0.932      0.965      0.887\n",
      "                  2445        400        800      0.986      0.976      0.987      0.973\n",
      "                  2450        400        800      0.996      0.965      0.982      0.949\n",
      "                  2454        400        800      0.997      0.986      0.992      0.971\n",
      "                  2456        400        800      0.987      0.953      0.975      0.958\n",
      "                 24866        400        800        0.6     0.0075      0.303      0.137\n",
      "                 25269        400        800      0.915      0.629      0.782      0.636\n",
      "                  2540        400        800      0.964      0.895      0.942      0.866\n",
      "                 26047        400        800      0.954      0.573      0.772      0.679\n",
      "                  2654        400        800      0.955      0.868      0.926       0.83\n",
      "                 26601        400        800      0.991      0.917      0.958      0.891\n",
      "                 26603        400        800      0.915       0.88      0.922      0.894\n",
      "                 26604        400        800        0.7      0.204      0.449      0.376\n",
      "                  2780        400        800      0.584      0.195      0.373      0.322\n",
      "                 27925        400        800      0.984      0.859      0.927      0.832\n",
      "                 28192        400        800      0.885      0.676      0.807       0.69\n",
      "                  2877        400        800      0.924      0.775      0.874      0.801\n",
      "                  3001        400        800      0.979      0.925       0.96      0.934\n",
      "                  3002        400        800      0.976      0.946      0.969      0.929\n",
      "                  3003        400        800      0.941      0.854      0.916      0.865\n",
      "                  3004        400        800      0.554      0.185      0.346      0.325\n",
      "                  3005        400        800       0.58      0.131      0.336      0.296\n",
      "                  3008        400        800       0.99      0.966      0.982      0.959\n",
      "                  3009        400        800      0.955      0.973      0.976      0.948\n",
      "                  3010        400        800      0.709      0.765      0.732      0.705\n",
      "                 30136        400        800      0.955      0.718       0.85      0.777\n",
      "                  3020        400        800      0.885      0.899      0.918      0.893\n",
      "                  3021        400        800      0.912      0.896      0.929      0.899\n",
      "                  3022        400        800      0.868      0.485      0.699      0.664\n",
      "                  3023        400        800      0.841      0.331      0.586      0.543\n",
      "                  3024        400        800      0.808      0.247      0.525       0.46\n",
      "                  3031        400        800      0.994      0.976      0.987      0.973\n",
      "                  3032        400        800      0.992       0.98       0.99      0.981\n",
      "                  3034        400        800      0.981      0.966      0.982      0.969\n",
      "                  3035        400        800      0.996      0.984      0.991      0.983\n",
      "                  3037        400        800      0.941      0.981      0.981      0.915\n",
      "                 30374        400        800      0.935       0.77      0.861      0.775\n",
      "                  3039        400        800      0.901      0.921      0.944      0.842\n",
      "                  3040        400        800      0.901       0.82      0.866      0.719\n",
      "                 30413        400        800      0.963      0.856      0.923      0.871\n",
      "                 30414        400        800      0.776       0.66      0.746      0.709\n",
      "                 3062b        400        800      0.951      0.654      0.813      0.692\n",
      "                  3065        400        800      0.844      0.258      0.562      0.512\n",
      "                 3068b        400        800      0.885      0.752      0.841      0.807\n",
      "                 3069b        400        800      0.811      0.505      0.663      0.619\n",
      "                 3070b        400        800       0.81      0.599      0.706      0.617\n",
      "                 32000        400        800      0.984       0.78      0.887      0.813\n",
      "                 32013        400        800      0.961      0.649      0.813      0.698\n",
      "                 32028        400        800      0.912      0.816      0.891      0.823\n",
      "                 32054        400        800      0.913      0.786      0.875      0.776\n",
      "                 32062        400        800      0.832      0.636      0.756      0.641\n",
      "                 32064        400        800       0.91      0.806      0.886      0.816\n",
      "                 32073        400        800      0.963      0.906       0.95      0.884\n",
      "                 32123        400        800      0.788      0.065      0.426      0.326\n",
      "                 32140        400        800      0.978      0.955      0.976       0.92\n",
      "                 32184        400        800      0.929      0.899      0.937      0.842\n",
      "                 32278        400        800      0.994      0.978      0.988      0.967\n",
      "                 32316        400        800      0.947       0.96      0.976      0.931\n",
      "                 3245c        400        800      0.892      0.771       0.85      0.816\n",
      "                 32523        400        800       0.92      0.835      0.898       0.82\n",
      "                 32524        400        800      0.972      0.969       0.98      0.948\n",
      "                 32525        400        800      0.976      0.981      0.988      0.967\n",
      "                 32526        400        800      0.992      0.963      0.981      0.949\n",
      "                 32607        400        800      0.971      0.706      0.847       0.73\n",
      "                 32952        400        800      0.921      0.681      0.817      0.738\n",
      "                 33291        400        800      0.817      0.201      0.515       0.41\n",
      "                 33909        400        800      0.973      0.496      0.741      0.704\n",
      "                 34103        400        800      0.913       0.77      0.863      0.808\n",
      "                  3460        400        800      0.907      0.912       0.93      0.898\n",
      "                 35480        400        800      0.923      0.511      0.729      0.647\n",
      "                  3622        400        800       0.96      0.935      0.962      0.909\n",
      "                  3623        400        800      0.887       0.69      0.809      0.756\n",
      "                  3660        400        800      0.946      0.884      0.937      0.873\n",
      "                  3665        400        800      0.955      0.791      0.885      0.803\n",
      "                  3666        400        800      0.901       0.91      0.935        0.9\n",
      "                  3673        400        800      0.818     0.0112      0.415      0.332\n",
      "                  3700        400        800      0.978      0.713      0.852      0.791\n",
      "                  3701        400        800      0.972      0.938       0.96      0.917\n",
      "                  3705        400        800      0.743      0.681      0.708      0.646\n",
      "                  3710        400        800      0.853      0.802      0.858      0.812\n",
      "                  3713        400        800      0.897      0.536      0.731      0.592\n",
      "                  3749        400        800      0.286     0.0025      0.147      0.139\n",
      "                  3795        400        800      0.953      0.966      0.979      0.965\n",
      "                  3832        400        800      0.972      0.964      0.979      0.967\n",
      "                  3937        400        800      0.806      0.347      0.581      0.535\n",
      "                  3941        400        800      0.948      0.917      0.951      0.858\n",
      "                  3958        400        800      0.993      0.993      0.995      0.984\n",
      "                  4032        400        800      0.854       0.71      0.805       0.73\n",
      "                 40490        400        800      0.965      0.954      0.974      0.948\n",
      "                  4070        400        800      0.684      0.351      0.514      0.434\n",
      "                  4073        400        800        0.8      0.005      0.403      0.333\n",
      "                 4081b        400        800      0.864      0.581      0.743      0.632\n",
      "                  4085        400        800      0.832      0.545      0.715      0.619\n",
      "                  4162        400        800      0.908       0.88      0.923      0.896\n",
      "                 41677        400        800      0.876      0.715      0.817      0.698\n",
      "                 41740        400        800      0.903      0.874      0.923      0.869\n",
      "                 41769        400        800      0.526      0.316      0.355      0.339\n",
      "                 41770        400        800      0.488      0.366      0.337      0.321\n",
      "                 42003        400        800      0.935      0.824      0.896      0.807\n",
      "                  4274        400        800      0.931      0.573      0.762      0.615\n",
      "                  4286        400        800      0.967      0.892      0.943      0.859\n",
      "                 43093        400        800       0.75    0.00375      0.378      0.303\n",
      "                 43722        400        800       0.49      0.404      0.347       0.33\n",
      "                 43723        400        800      0.534      0.189      0.331      0.309\n",
      "                 44728        400        800      0.864      0.604       0.75      0.707\n",
      "                  4477        400        800      0.964      0.961      0.975      0.947\n",
      "                  4519        400        800      0.911      0.744      0.842      0.745\n",
      "                  4589        400        800      0.969      0.656      0.819      0.692\n",
      "                 4599b        400        800       0.98      0.814      0.902      0.738\n",
      "                  4740        400        800      0.864      0.654      0.779      0.667\n",
      "                 47457        400        800      0.956      0.816      0.899      0.839\n",
      "                 48336        400        800      0.955      0.931      0.958      0.883\n",
      "                  4865        400        800      0.899      0.545      0.735      0.664\n",
      "                 48729        400        800      0.958       0.75      0.867      0.724\n",
      "                 49668        400        800      0.919      0.511      0.725      0.617\n",
      "                 50950        400        800      0.949      0.815      0.896      0.806\n",
      "                 51739        400        800      0.995      0.963      0.981      0.927\n",
      "                 53451        400        800      0.964      0.436      0.702      0.471\n",
      "                 54200        400        800      0.818      0.185      0.503       0.43\n",
      "                 59443        400        800      0.768      0.738      0.777      0.677\n",
      "                 60470        400        800      0.952      0.812      0.893      0.813\n",
      "                 60474        400        800      0.997      0.993      0.995      0.959\n",
      "                 60478        400        800      0.963      0.812      0.901      0.829\n",
      "                 60479        400        800      0.971      0.966       0.98      0.958\n",
      "                 60481        400        800       0.98        0.9      0.947       0.88\n",
      "                 60483        400        800      0.917      0.743      0.852      0.757\n",
      "                 60592        400        800      0.992      0.944      0.971      0.916\n",
      "                 60601        400        800      0.989      0.877      0.938      0.874\n",
      "                  6091        400        800       0.95      0.776      0.879      0.776\n",
      "                 61252        400        800      0.872      0.314      0.593      0.501\n",
      "                  6134        400        800      0.767      0.826      0.864      0.801\n",
      "                 61409        400        800      0.923      0.828      0.899      0.779\n",
      "                 61678        400        800      0.936      0.825      0.901      0.824\n",
      "                 62462        400        800      0.937      0.535      0.748      0.668\n",
      "                 63864        400        800      0.902      0.807      0.883      0.832\n",
      "                 63868        400        800      0.925        0.8      0.885      0.793\n",
      "                 63965        400        800      0.989      0.881      0.939      0.859\n",
      "                 64644        400        800      0.981      0.834      0.913      0.788\n",
      "                  6536        400        800      0.925      0.674      0.815      0.699\n",
      "                  6541        400        800      0.847      0.297      0.582       0.51\n",
      "                  6558        400        800      0.679      0.367      0.522      0.467\n",
      "                  6632        400        800      0.947      0.901      0.938      0.845\n",
      "                  6636        400        800      0.903      0.861      0.908      0.883\n",
      "                 85080        400        800      0.897       0.72      0.828      0.744\n",
      "                 85861        400        800          1     0.0025      0.501      0.401\n",
      "                 85984        400        800      0.882      0.271      0.579      0.515\n",
      "                 87079        400        800      0.937      0.869      0.923      0.904\n",
      "                 87083        400        800      0.833      0.636      0.754       0.67\n",
      "                 87087        400        800      0.577     0.0187      0.296      0.224\n",
      "                 87552        400        800      0.863      0.858      0.898      0.845\n",
      "                 87580        400        800      0.857        0.6      0.765      0.728\n",
      "                 87620        400        800      0.856      0.845      0.882      0.801\n",
      "                 87994        400        800      0.944      0.738      0.854      0.758\n",
      "                 88072        400        800      0.877      0.551      0.734      0.655\n",
      "                 88323        400        800      0.992      0.985      0.991      0.941\n",
      "                 92280        400        800      0.768      0.372      0.582      0.517\n",
      "                 92946        400        800      0.863      0.723      0.813      0.659\n",
      "                 93273        400        800      0.932      0.896      0.939      0.847\n",
      "                 98138        400        800      0.976      0.403      0.691      0.585\n",
      "                 98283        400        800      0.966      0.666      0.824      0.759\n",
      "                 99206        400        800      0.957      0.826      0.905      0.852\n",
      "                 99207        400        800      0.777      0.661      0.747      0.698\n",
      "                 99563        400        800      0.762      0.664      0.716      0.646\n",
      "                 99780        400        800      0.765       0.52      0.644      0.594\n",
      "                 99781        400        800      0.857      0.458      0.672      0.624\n",
      "Speed: 0.4ms preprocess, 21.4ms inference, 0.0ms loss, 9.7ms postprocess per image\n",
      "Results saved to \u001b[1mdataset\\lego_yolo8m22\u001b[0m\n",
      "mAP@50-95: 0.725\n",
      "mAP@50: 0.795\n",
      "mAP@75: 0.781\n"
     ]
    }
   ],
   "source": [
    "metrics = model.val(data=os.path.join(OUTPUT_DIR, \"dataset.yaml\"), split='val') \n",
    "\n",
    "# Show key metrics\n",
    "print(f\"mAP@50-95: {metrics.box.map:.3f}\")\n",
    "print(f\"mAP@50: {metrics.box.map50:.3f}\")\n",
    "print(f\"mAP@75: {metrics.box.map75:.3f}\")"
   ]
  }
 ],
 "metadata": {
  "kernelspec": {
   "display_name": ".venv",
   "language": "python",
   "name": "python3"
  },
  "language_info": {
   "codemirror_mode": {
    "name": "ipython",
    "version": 3
   },
   "file_extension": ".py",
   "mimetype": "text/x-python",
   "name": "python",
   "nbconvert_exporter": "python",
   "pygments_lexer": "ipython3",
   "version": "3.12.4"
  }
 },
 "nbformat": 4,
 "nbformat_minor": 5
}
