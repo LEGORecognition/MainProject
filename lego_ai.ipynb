{
 "cells": [
  {
   "cell_type": "code",
   "execution_count": 1,
   "id": "ef1488ef-bfda-4ba2-92c2-13bc89c6dfa1",
   "metadata": {},
   "outputs": [],
   "source": [
    "import os\n",
    "import glob\n",
    "import shutil\n",
    "import random\n",
    "import xml.etree.ElementTree as ET\n",
    "from PIL import Image\n",
    "from ultralytics import YOLO\n",
    "import torch"
   ]
  },
  {
   "cell_type": "code",
   "execution_count": 2,
   "id": "2dd6c577",
   "metadata": {},
   "outputs": [
    {
     "name": "stdout",
     "output_type": "stream",
     "text": [
      "INFO:\n",
      "\n",
      "Logical CPU threads available: 16\n",
      "PyTorch version: 2.7.0+cu118\n",
      "CUDA available: True\n",
      "CUDA version: 11.8\n",
      "Device: NVIDIA GeForce RTX 4070 SUPER\n"
     ]
    }
   ],
   "source": [
    "print(\"INFO:\\n\")\n",
    "print(f\"Logical CPU threads available: {os.cpu_count()}\")\n",
    "print(\"PyTorch version:\", torch.__version__)\n",
    "\n",
    "cuda_available = torch.cuda.is_available()\n",
    "print(\"CUDA available:\", cuda_available)\n",
    "if cuda_available:\n",
    "    print(\"CUDA version:\", torch.version.cuda)\n",
    "    print(\"Device:\", torch.cuda.get_device_name(0))\n"
   ]
  },
  {
   "cell_type": "code",
   "execution_count": 3,
   "id": "098d62b9",
   "metadata": {},
   "outputs": [],
   "source": [
    "IMAGE_DIR = \"images\"            # Directory containing PNG images\n",
    "XML_DIR = \"annotations\"         # Directory containing XML annotations\n",
    "OUTPUT_DIR = \"dataset\"          # Directory to save the prepared dataset\n",
    "\n",
    "# Create output directories\n",
    "os.makedirs(os.path.join(OUTPUT_DIR, \"images\", \"train\"), exist_ok=True)\n",
    "os.makedirs(os.path.join(OUTPUT_DIR, \"images\", \"val\"), exist_ok=True)\n",
    "os.makedirs(os.path.join(OUTPUT_DIR, \"labels\", \"train\"), exist_ok=True)\n",
    "os.makedirs(os.path.join(OUTPUT_DIR, \"labels\", \"val\"), exist_ok=True)"
   ]
  },
  {
   "cell_type": "code",
   "execution_count": null,
   "id": "f733261a",
   "metadata": {},
   "outputs": [],
   "source": [
    "class_names = set()\n",
    "for xml_file in glob.glob(os.path.join(XML_DIR, \"*.xml\")):\n",
    "    tree = ET.parse(xml_file)\n",
    "    root = tree.getroot()\n",
    "    \n",
    "    for obj in root.findall('object'):\n",
    "        class_name = obj.find('name').text\n",
    "        class_names.add(class_name)\n",
    "\n",
    "class_names = sorted(list(class_names))\n",
    "\n",
    "print(f\"Found {len(class_names)} unique brick classes: {class_names}\")"
   ]
  },
  {
   "cell_type": "code",
   "execution_count": null,
   "id": "7dd345af",
   "metadata": {},
   "outputs": [],
   "source": [
    "def xml_to_yolo_label(xml_file, image_width, image_height):\n",
    "    tree = ET.parse(xml_file)\n",
    "    root = tree.getroot()\n",
    "    \n",
    "    yolo_annotations = []\n",
    "    \n",
    "    for obj in root.findall('object'):\n",
    "        # Get class name\n",
    "        class_name = obj.find('name').text\n",
    "        \n",
    "        # Get bounding box coordinates\n",
    "        bndbox = obj.find('bndbox')\n",
    "        xmin = float(bndbox.find('xmin').text)\n",
    "        ymin = float(bndbox.find('ymin').text)\n",
    "        xmax = float(bndbox.find('xmax').text)\n",
    "        ymax = float(bndbox.find('ymax').text)\n",
    "        \n",
    "        # Convert to YOLO format (normalized center_x, center_y, width, height)\n",
    "        x_center = ((xmin + xmax) / 2) / image_width\n",
    "        y_center = ((ymin + ymax) / 2) / image_height\n",
    "        width = (xmax - xmin) / image_width\n",
    "        height = (ymax - ymin) / image_height\n",
    "        \n",
    "        # Format: class_id_index center_x center_y width height\n",
    "        yolo_annotations.append(f\"{class_names.index(class_name)} {x_center} {y_center} {width} {height}\")\n",
    "    \n",
    "    return yolo_annotations"
   ]
  },
  {
   "cell_type": "code",
   "execution_count": null,
   "id": "4f99e847",
   "metadata": {},
   "outputs": [],
   "source": [
    "# Get all image files\n",
    "image_files = sorted(glob.glob(os.path.join(IMAGE_DIR, \"*.png\")))\n",
    "print(f\"Found {len(image_files)} image files\")\n",
    "\n",
    "# Randomly split into train and validation sets (80:20)\n",
    "random.seed(42)  # for reproducibility\n",
    "random.shuffle(image_files)\n",
    "split_idx = int(0.8 * len(image_files))\n",
    "train_images = image_files[:split_idx]\n",
    "test_images = image_files[split_idx:]\n",
    "\n",
    "print(f\"Training images: {len(train_images)}\")\n",
    "print(f\"Validation images: {len(test_images)}\")\n",
    "\n",
    "# Process the images and annotations\n",
    "def process_dataset(image_files, dataset_type):\n",
    "    for img_path in image_files:\n",
    "\n",
    "        # Get image filename without extension\n",
    "        img_filename = os.path.basename(img_path)\n",
    "        img_name = os.path.splitext(img_filename)[0]\n",
    "        \n",
    "        # Load the image to get dimensions\n",
    "        img = Image.open(img_path)\n",
    "        img_width, img_height = img.size\n",
    "        \n",
    "        # Find the corresponding XML file\n",
    "        xml_path = os.path.join(XML_DIR, f\"{img_name}.xml\")\n",
    "        \n",
    "        if os.path.exists(xml_path):\n",
    "            \n",
    "            # Copy image to dataset directory\n",
    "            output_img_path = os.path.join(OUTPUT_DIR, \"images\", dataset_type, img_filename)\n",
    "            shutil.copy(img_path, output_img_path)\n",
    "\n",
    "            # Convert annotations to YOLO labels\n",
    "            yolo_annotations = xml_to_yolo_label(xml_path, img_width, img_height)\n",
    "            \n",
    "            # Save YOLO annotations\n",
    "            output_label_path = os.path.join(OUTPUT_DIR, \"labels\", dataset_type, f\"{img_name}.txt\")\n",
    "            with open(output_label_path, \"w\") as f:\n",
    "                f.write(\"\\n\".join(yolo_annotations))\n",
    "        else:\n",
    "            print(f\"Warning: XML file not found for {img_path}\")\n",
    "\n",
    "# Process training and validation sets\n",
    "process_dataset(train_images, \"train\")\n",
    "process_dataset(test_images, \"val\")"
   ]
  },
  {
   "cell_type": "code",
   "execution_count": null,
   "id": "99606a43",
   "metadata": {},
   "outputs": [],
   "source": [
    "# Create dataset.yaml file\n",
    "yaml_content = f\"\"\"\n",
    "# YOLO dataset configuration\n",
    "path: {os.path.abspath(OUTPUT_DIR)}\n",
    "train: images/train\n",
    "val: images/val\n",
    "\n",
    "# Classes\n",
    "nc: {len(class_names)}\n",
    "names: {class_names}\n",
    "\"\"\"\n",
    "\n",
    "with open(os.path.join(OUTPUT_DIR, \"dataset.yaml\"), \"w\") as f:\n",
    "    f.write(yaml_content)\n",
    "\n",
    "print(\"Dataset preparation complete!\")"
   ]
  },
  {
   "cell_type": "code",
   "execution_count": 4,
   "id": "f2a9dcea",
   "metadata": {},
   "outputs": [
    {
     "name": "stdout",
     "output_type": "stream",
     "text": [
      "Ultralytics 8.3.137  Python-3.12.4 torch-2.7.0+cu118 CUDA:0 (NVIDIA GeForce RTX 4070 SUPER, 12282MiB)\n",
      "\u001b[34m\u001b[1mengine\\trainer: \u001b[0magnostic_nms=False, amp=True, augment=False, auto_augment=randaugment, batch=2, bgr=0.0, box=7.5, cache=False, cfg=None, classes=None, close_mosaic=10, cls=0.5, conf=None, copy_paste=0.0, copy_paste_mode=flip, cos_lr=False, cutmix=0.0, data=dataset\\dataset.yaml, degrees=0.0, deterministic=True, device=0, dfl=1.5, dnn=False, dropout=0.0, dynamic=False, embed=None, epochs=500, erasing=0.4, exist_ok=False, fliplr=0.5, flipud=0.0, format=torchscript, fraction=1.0, freeze=None, half=False, hsv_h=0.015, hsv_s=0.7, hsv_v=0.4, imgsz=768, int8=False, iou=0.7, keras=False, kobj=1.0, line_width=None, lr0=0.01, lrf=0.01, mask_ratio=4, max_det=300, mixup=0.0, mode=train, model=yolov8m.pt, momentum=0.937, mosaic=1.0, multi_scale=False, name=lego_yolo8m2, nbs=64, nms=False, opset=None, optimize=False, optimizer=auto, overlap_mask=True, patience=20, perspective=0.0, plots=True, pose=12.0, pretrained=True, profile=False, project=dataset, rect=False, resume=False, retina_masks=False, save=True, save_conf=False, save_crop=False, save_dir=dataset\\lego_yolo8m2, save_frames=False, save_json=False, save_period=-1, save_txt=False, scale=0.5, seed=0, shear=0.0, show=False, show_boxes=True, show_conf=True, show_labels=True, simplify=True, single_cls=False, source=None, split=val, stream_buffer=False, task=detect, time=None, tracker=botsort.yaml, translate=0.1, val=True, verbose=True, vid_stride=1, visualize=False, warmup_bias_lr=0.1, warmup_epochs=3.0, warmup_momentum=0.8, weight_decay=0.0005, workers=8, workspace=None\n",
      "Overriding model.yaml nc=80 with nc=200\n",
      "\n",
      "                   from  n    params  module                                       arguments                     \n",
      "  0                  -1  1      1392  ultralytics.nn.modules.conv.Conv             [3, 48, 3, 2]                 \n",
      "  1                  -1  1     41664  ultralytics.nn.modules.conv.Conv             [48, 96, 3, 2]                \n",
      "  2                  -1  2    111360  ultralytics.nn.modules.block.C2f             [96, 96, 2, True]             \n",
      "  3                  -1  1    166272  ultralytics.nn.modules.conv.Conv             [96, 192, 3, 2]               \n",
      "  4                  -1  4    813312  ultralytics.nn.modules.block.C2f             [192, 192, 4, True]           \n",
      "  5                  -1  1    664320  ultralytics.nn.modules.conv.Conv             [192, 384, 3, 2]              \n",
      "  6                  -1  4   3248640  ultralytics.nn.modules.block.C2f             [384, 384, 4, True]           \n",
      "  7                  -1  1   1991808  ultralytics.nn.modules.conv.Conv             [384, 576, 3, 2]              \n",
      "  8                  -1  2   3985920  ultralytics.nn.modules.block.C2f             [576, 576, 2, True]           \n",
      "  9                  -1  1    831168  ultralytics.nn.modules.block.SPPF            [576, 576, 5]                 \n",
      " 10                  -1  1         0  torch.nn.modules.upsampling.Upsample         [None, 2, 'nearest']          \n",
      " 11             [-1, 6]  1         0  ultralytics.nn.modules.conv.Concat           [1]                           \n",
      " 12                  -1  2   1993728  ultralytics.nn.modules.block.C2f             [960, 384, 2]                 \n",
      " 13                  -1  1         0  torch.nn.modules.upsampling.Upsample         [None, 2, 'nearest']          \n",
      " 14             [-1, 4]  1         0  ultralytics.nn.modules.conv.Concat           [1]                           \n",
      " 15                  -1  2    517632  ultralytics.nn.modules.block.C2f             [576, 192, 2]                 \n",
      " 16                  -1  1    332160  ultralytics.nn.modules.conv.Conv             [192, 192, 3, 2]              \n",
      " 17            [-1, 12]  1         0  ultralytics.nn.modules.conv.Concat           [1]                           \n",
      " 18                  -1  2   1846272  ultralytics.nn.modules.block.C2f             [576, 384, 2]                 \n",
      " 19                  -1  1   1327872  ultralytics.nn.modules.conv.Conv             [384, 384, 3, 2]              \n",
      " 20             [-1, 9]  1         0  ultralytics.nn.modules.conv.Concat           [1]                           \n",
      " 21                  -1  2   4207104  ultralytics.nn.modules.block.C2f             [960, 576, 2]                 \n",
      " 22        [15, 18, 21]  1   3891496  ultralytics.nn.modules.head.Detect           [200, [192, 384, 576]]        \n",
      "Model summary: 169 layers, 25,972,120 parameters, 25,972,104 gradients, 79.7 GFLOPs\n",
      "\n",
      "Transferred 469/475 items from pretrained weights\n",
      "Freezing layer 'model.22.dfl.conv.weight'\n",
      "\u001b[34m\u001b[1mAMP: \u001b[0mrunning Automatic Mixed Precision (AMP) checks...\n",
      "\u001b[34m\u001b[1mAMP: \u001b[0mchecks passed \n",
      "\u001b[34m\u001b[1mtrain: \u001b[0mFast image access  (ping: 0.20.1 ms, read: 1891.91537.7 MB/s, size: 7921.8 KB)\n"
     ]
    },
    {
     "name": "stderr",
     "output_type": "stream",
     "text": [
      "\u001b[34m\u001b[1mtrain: \u001b[0mScanning D:\\GitHub\\MainProject\\dataset\\labels\\train.cache... 1600 images, 0 backgrounds, 0 corrupt: 100%|██████████| 1600/1600 [00:00<?, ?it/s]\n"
     ]
    },
    {
     "name": "stdout",
     "output_type": "stream",
     "text": [
      "\u001b[34m\u001b[1mval: \u001b[0mFast image access  (ping: 0.20.1 ms, read: 2816.2347.7 MB/s, size: 7508.7 KB)\n"
     ]
    },
    {
     "name": "stderr",
     "output_type": "stream",
     "text": [
      "\u001b[34m\u001b[1mval: \u001b[0mScanning D:\\GitHub\\MainProject\\dataset\\labels\\val.cache... 400 images, 0 backgrounds, 0 corrupt: 100%|██████████| 400/400 [00:00<?, ?it/s]\n"
     ]
    },
    {
     "name": "stdout",
     "output_type": "stream",
     "text": [
      "Plotting labels to dataset\\lego_yolo8m2\\labels.jpg... \n",
      "\u001b[34m\u001b[1moptimizer:\u001b[0m 'optimizer=auto' found, ignoring 'lr0=0.01' and 'momentum=0.937' and determining best 'optimizer', 'lr0' and 'momentum' automatically... \n",
      "\u001b[34m\u001b[1moptimizer:\u001b[0m SGD(lr=0.01, momentum=0.9) with parameter groups 77 weight(decay=0.0), 84 weight(decay=0.0005), 83 bias(decay=0.0)\n",
      "Image sizes 768 train, 768 val\n",
      "Using 8 dataloader workers\n",
      "Logging results to \u001b[1mdataset\\lego_yolo8m2\u001b[0m\n",
      "Starting training for 500 epochs...\n",
      "\n",
      "      Epoch    GPU_mem   box_loss   cls_loss   dfl_loss  Instances       Size\n"
     ]
    },
    {
     "name": "stderr",
     "output_type": "stream",
     "text": [
      "      1/500       4.8G      1.054      4.094     0.9306       1289        768: 100%|██████████| 800/800 [01:11<00:00, 11.21it/s]\n",
      "                 Class     Images  Instances      Box(P          R      mAP50  mAP50-95): 100%|██████████| 100/100 [00:15<00:00,  6.32it/s]\n"
     ]
    },
    {
     "name": "stdout",
     "output_type": "stream",
     "text": [
      "                   all        400     160000      0.132      0.189      0.142      0.124\n",
      "\n",
      "      Epoch    GPU_mem   box_loss   cls_loss   dfl_loss  Instances       Size\n"
     ]
    },
    {
     "name": "stderr",
     "output_type": "stream",
     "text": [
      "      2/500      4.85G     0.9742      2.355     0.8766        858        768: 100%|██████████| 800/800 [01:07<00:00, 11.82it/s]\n",
      "                 Class     Images  Instances      Box(P          R      mAP50  mAP50-95): 100%|██████████| 100/100 [00:14<00:00,  6.98it/s]\n"
     ]
    },
    {
     "name": "stdout",
     "output_type": "stream",
     "text": [
      "                   all        400     160000      0.235      0.261      0.236      0.198\n",
      "\n",
      "      Epoch    GPU_mem   box_loss   cls_loss   dfl_loss  Instances       Size\n"
     ]
    },
    {
     "name": "stderr",
     "output_type": "stream",
     "text": [
      "      3/500      5.39G      1.024      1.984     0.8738        371        768: 100%|██████████| 800/800 [01:06<00:00, 12.01it/s]\n",
      "                 Class     Images  Instances      Box(P          R      mAP50  mAP50-95): 100%|██████████| 100/100 [00:13<00:00,  7.40it/s]\n"
     ]
    },
    {
     "name": "stdout",
     "output_type": "stream",
     "text": [
      "                   all        400     160000      0.341       0.34      0.327      0.279\n",
      "\n",
      "      Epoch    GPU_mem   box_loss   cls_loss   dfl_loss  Instances       Size\n"
     ]
    },
    {
     "name": "stderr",
     "output_type": "stream",
     "text": [
      "      4/500      5.99G     0.9964      1.763     0.8691        822        768: 100%|██████████| 800/800 [01:06<00:00, 11.96it/s]\n",
      "                 Class     Images  Instances      Box(P          R      mAP50  mAP50-95): 100%|██████████| 100/100 [00:14<00:00,  7.07it/s]\n"
     ]
    },
    {
     "name": "stdout",
     "output_type": "stream",
     "text": [
      "                   all        400     160000       0.37      0.313      0.335      0.264\n",
      "\n",
      "      Epoch    GPU_mem   box_loss   cls_loss   dfl_loss  Instances       Size\n"
     ]
    },
    {
     "name": "stderr",
     "output_type": "stream",
     "text": [
      "      5/500      5.99G     0.9249       1.59     0.8538        906        768: 100%|██████████| 800/800 [01:06<00:00, 12.07it/s]\n",
      "                 Class     Images  Instances      Box(P          R      mAP50  mAP50-95): 100%|██████████| 100/100 [00:13<00:00,  7.26it/s]\n"
     ]
    },
    {
     "name": "stdout",
     "output_type": "stream",
     "text": [
      "                   all        400     160000      0.417      0.351      0.372      0.316\n",
      "\n",
      "      Epoch    GPU_mem   box_loss   cls_loss   dfl_loss  Instances       Size\n"
     ]
    },
    {
     "name": "stderr",
     "output_type": "stream",
     "text": [
      "      6/500      5.99G     0.8875       1.45     0.8509        634        768: 100%|██████████| 800/800 [01:09<00:00, 11.45it/s]\n",
      "                 Class     Images  Instances      Box(P          R      mAP50  mAP50-95): 100%|██████████| 100/100 [00:15<00:00,  6.66it/s]\n"
     ]
    },
    {
     "name": "stdout",
     "output_type": "stream",
     "text": [
      "                   all        400     160000      0.546      0.438      0.499      0.419\n",
      "\n",
      "      Epoch    GPU_mem   box_loss   cls_loss   dfl_loss  Instances       Size\n"
     ]
    },
    {
     "name": "stderr",
     "output_type": "stream",
     "text": [
      "      7/500      5.99G     0.8563      1.365     0.8454        971        768: 100%|██████████| 800/800 [01:10<00:00, 11.33it/s]\n",
      "                 Class     Images  Instances      Box(P          R      mAP50  mAP50-95): 100%|██████████| 100/100 [00:14<00:00,  6.78it/s]\n"
     ]
    },
    {
     "name": "stdout",
     "output_type": "stream",
     "text": [
      "                   all        400     160000      0.595      0.472      0.541      0.467\n",
      "\n",
      "      Epoch    GPU_mem   box_loss   cls_loss   dfl_loss  Instances       Size\n"
     ]
    },
    {
     "name": "stderr",
     "output_type": "stream",
     "text": [
      "      8/500      6.03G     0.8249       1.31      0.842        982        768: 100%|██████████| 800/800 [01:10<00:00, 11.39it/s]\n",
      "                 Class     Images  Instances      Box(P          R      mAP50  mAP50-95): 100%|██████████| 100/100 [00:14<00:00,  6.84it/s]\n"
     ]
    },
    {
     "name": "stdout",
     "output_type": "stream",
     "text": [
      "                   all        400     160000      0.466      0.357      0.401      0.344\n",
      "\n",
      "      Epoch    GPU_mem   box_loss   cls_loss   dfl_loss  Instances       Size\n"
     ]
    },
    {
     "name": "stderr",
     "output_type": "stream",
     "text": [
      "      9/500       5.6G     0.8231      1.264     0.8371        738        768: 100%|██████████| 800/800 [01:10<00:00, 11.38it/s]\n",
      "                 Class     Images  Instances      Box(P          R      mAP50  mAP50-95): 100%|██████████| 100/100 [00:15<00:00,  6.57it/s]\n"
     ]
    },
    {
     "name": "stdout",
     "output_type": "stream",
     "text": [
      "                   all        400     160000      0.601      0.477      0.548      0.473\n",
      "\n",
      "      Epoch    GPU_mem   box_loss   cls_loss   dfl_loss  Instances       Size\n"
     ]
    },
    {
     "name": "stderr",
     "output_type": "stream",
     "text": [
      "     10/500       5.6G     0.8008      1.214     0.8345       1484        768: 100%|██████████| 800/800 [01:08<00:00, 11.74it/s]\n",
      "                 Class     Images  Instances      Box(P          R      mAP50  mAP50-95): 100%|██████████| 100/100 [00:14<00:00,  6.73it/s]\n"
     ]
    },
    {
     "name": "stdout",
     "output_type": "stream",
     "text": [
      "                   all        400     160000      0.568      0.457      0.521      0.451\n",
      "\n",
      "      Epoch    GPU_mem   box_loss   cls_loss   dfl_loss  Instances       Size\n"
     ]
    },
    {
     "name": "stderr",
     "output_type": "stream",
     "text": [
      "     11/500      5.62G     0.7757      1.172     0.8326        526        768: 100%|██████████| 800/800 [01:07<00:00, 11.82it/s]\n",
      "                 Class     Images  Instances      Box(P          R      mAP50  mAP50-95): 100%|██████████| 100/100 [00:14<00:00,  6.69it/s]\n"
     ]
    },
    {
     "name": "stdout",
     "output_type": "stream",
     "text": [
      "                   all        400     160000      0.618      0.498      0.568      0.491\n",
      "\n",
      "      Epoch    GPU_mem   box_loss   cls_loss   dfl_loss  Instances       Size\n"
     ]
    },
    {
     "name": "stderr",
     "output_type": "stream",
     "text": [
      "     12/500      6.21G     0.7663      1.144     0.8296       1443        768: 100%|██████████| 800/800 [01:08<00:00, 11.72it/s]\n",
      "                 Class     Images  Instances      Box(P          R      mAP50  mAP50-95): 100%|██████████| 100/100 [00:14<00:00,  6.80it/s]\n"
     ]
    },
    {
     "name": "stdout",
     "output_type": "stream",
     "text": [
      "                   all        400     160000      0.606      0.474       0.55      0.474\n",
      "\n",
      "      Epoch    GPU_mem   box_loss   cls_loss   dfl_loss  Instances       Size\n"
     ]
    },
    {
     "name": "stderr",
     "output_type": "stream",
     "text": [
      "     13/500      4.84G     0.7599      1.101     0.8304       1032        768: 100%|██████████| 800/800 [01:07<00:00, 11.85it/s]\n",
      "                 Class     Images  Instances      Box(P          R      mAP50  mAP50-95): 100%|██████████| 100/100 [00:14<00:00,  6.82it/s]\n"
     ]
    },
    {
     "name": "stdout",
     "output_type": "stream",
     "text": [
      "                   all        400     160000      0.487      0.387       0.43       0.36\n",
      "\n",
      "      Epoch    GPU_mem   box_loss   cls_loss   dfl_loss  Instances       Size\n"
     ]
    },
    {
     "name": "stderr",
     "output_type": "stream",
     "text": [
      "     14/500      4.84G     0.7312      1.099     0.8241        754        768: 100%|██████████| 800/800 [01:06<00:00, 11.95it/s]\n",
      "                 Class     Images  Instances      Box(P          R      mAP50  mAP50-95): 100%|██████████| 100/100 [00:14<00:00,  6.84it/s]\n"
     ]
    },
    {
     "name": "stdout",
     "output_type": "stream",
     "text": [
      "                   all        400     160000      0.537      0.415      0.472      0.415\n",
      "\n",
      "      Epoch    GPU_mem   box_loss   cls_loss   dfl_loss  Instances       Size\n"
     ]
    },
    {
     "name": "stderr",
     "output_type": "stream",
     "text": [
      "     15/500      4.86G     0.7433      1.062     0.8248       1286        768: 100%|██████████| 800/800 [01:07<00:00, 11.89it/s]\n",
      "                 Class     Images  Instances      Box(P          R      mAP50  mAP50-95): 100%|██████████| 100/100 [00:13<00:00,  7.31it/s]\n"
     ]
    },
    {
     "name": "stdout",
     "output_type": "stream",
     "text": [
      "                   all        400     160000      0.701      0.549      0.639      0.551\n",
      "\n",
      "      Epoch    GPU_mem   box_loss   cls_loss   dfl_loss  Instances       Size\n"
     ]
    },
    {
     "name": "stderr",
     "output_type": "stream",
     "text": [
      "     16/500       4.9G     0.7277      1.038     0.8242       1517        768: 100%|██████████| 800/800 [01:07<00:00, 11.87it/s]\n",
      "                 Class     Images  Instances      Box(P          R      mAP50  mAP50-95): 100%|██████████| 100/100 [00:13<00:00,  7.42it/s]\n"
     ]
    },
    {
     "name": "stdout",
     "output_type": "stream",
     "text": [
      "                   all        400     160000      0.699      0.552       0.64      0.568\n",
      "\n",
      "      Epoch    GPU_mem   box_loss   cls_loss   dfl_loss  Instances       Size\n"
     ]
    },
    {
     "name": "stderr",
     "output_type": "stream",
     "text": [
      "     17/500      4.95G     0.7321      1.018     0.8242       1438        768: 100%|██████████| 800/800 [01:07<00:00, 11.77it/s]\n",
      "                 Class     Images  Instances      Box(P          R      mAP50  mAP50-95): 100%|██████████| 100/100 [00:13<00:00,  7.64it/s]\n"
     ]
    },
    {
     "name": "stdout",
     "output_type": "stream",
     "text": [
      "                   all        400     160000      0.631      0.494      0.574      0.498\n",
      "\n",
      "      Epoch    GPU_mem   box_loss   cls_loss   dfl_loss  Instances       Size\n"
     ]
    },
    {
     "name": "stderr",
     "output_type": "stream",
     "text": [
      "     18/500      4.95G     0.7187     0.9973     0.8211        526        768: 100%|██████████| 800/800 [01:07<00:00, 11.94it/s]\n",
      "                 Class     Images  Instances      Box(P          R      mAP50  mAP50-95): 100%|██████████| 100/100 [00:12<00:00,  7.97it/s]\n"
     ]
    },
    {
     "name": "stdout",
     "output_type": "stream",
     "text": [
      "                   all        400     160000      0.677      0.527      0.616      0.533\n",
      "\n",
      "      Epoch    GPU_mem   box_loss   cls_loss   dfl_loss  Instances       Size\n"
     ]
    },
    {
     "name": "stderr",
     "output_type": "stream",
     "text": [
      "     19/500      4.95G     0.7121     0.9941     0.8205        605        768: 100%|██████████| 800/800 [01:07<00:00, 11.92it/s]\n",
      "                 Class     Images  Instances      Box(P          R      mAP50  mAP50-95): 100%|██████████| 100/100 [00:12<00:00,  7.98it/s]\n"
     ]
    },
    {
     "name": "stdout",
     "output_type": "stream",
     "text": [
      "                   all        400     160000      0.674      0.527      0.613      0.532\n",
      "\n",
      "      Epoch    GPU_mem   box_loss   cls_loss   dfl_loss  Instances       Size\n"
     ]
    },
    {
     "name": "stderr",
     "output_type": "stream",
     "text": [
      "     20/500      4.95G     0.6937     0.9845      0.819        572        768: 100%|██████████| 800/800 [01:07<00:00, 11.85it/s]\n",
      "                 Class     Images  Instances      Box(P          R      mAP50  mAP50-95): 100%|██████████| 100/100 [00:12<00:00,  8.02it/s]\n"
     ]
    },
    {
     "name": "stdout",
     "output_type": "stream",
     "text": [
      "                   all        400     160000       0.69      0.538       0.63      0.549\n",
      "\n",
      "      Epoch    GPU_mem   box_loss   cls_loss   dfl_loss  Instances       Size\n"
     ]
    },
    {
     "name": "stderr",
     "output_type": "stream",
     "text": [
      "     21/500      4.95G      0.708     0.9599     0.8192       1884        768: 100%|██████████| 800/800 [01:07<00:00, 11.82it/s]\n",
      "                 Class     Images  Instances      Box(P          R      mAP50  mAP50-95): 100%|██████████| 100/100 [00:12<00:00,  8.06it/s]\n"
     ]
    },
    {
     "name": "stdout",
     "output_type": "stream",
     "text": [
      "                   all        400     160000      0.694      0.535      0.628      0.555\n",
      "\n",
      "      Epoch    GPU_mem   box_loss   cls_loss   dfl_loss  Instances       Size\n"
     ]
    },
    {
     "name": "stderr",
     "output_type": "stream",
     "text": [
      "     22/500      4.95G     0.7013     0.9466     0.8182       1861        768: 100%|██████████| 800/800 [01:07<00:00, 11.86it/s]\n",
      "                 Class     Images  Instances      Box(P          R      mAP50  mAP50-95): 100%|██████████| 100/100 [00:12<00:00,  8.33it/s]\n"
     ]
    },
    {
     "name": "stdout",
     "output_type": "stream",
     "text": [
      "                   all        400     160000      0.689      0.537      0.629       0.55\n",
      "\n",
      "      Epoch    GPU_mem   box_loss   cls_loss   dfl_loss  Instances       Size\n"
     ]
    },
    {
     "name": "stderr",
     "output_type": "stream",
     "text": [
      "     23/500      4.95G     0.6802     0.9708     0.8158        656        768: 100%|██████████| 800/800 [01:07<00:00, 11.83it/s]\n",
      "                 Class     Images  Instances      Box(P          R      mAP50  mAP50-95): 100%|██████████| 100/100 [00:11<00:00,  8.56it/s]\n"
     ]
    },
    {
     "name": "stdout",
     "output_type": "stream",
     "text": [
      "                   all        400     160000       0.69      0.537      0.628      0.558\n",
      "\n",
      "      Epoch    GPU_mem   box_loss   cls_loss   dfl_loss  Instances       Size\n"
     ]
    },
    {
     "name": "stderr",
     "output_type": "stream",
     "text": [
      "     24/500      4.95G     0.6872     0.9384      0.816       1343        768: 100%|██████████| 800/800 [01:07<00:00, 11.84it/s]\n",
      "                 Class     Images  Instances      Box(P          R      mAP50  mAP50-95): 100%|██████████| 100/100 [00:12<00:00,  8.04it/s]\n"
     ]
    },
    {
     "name": "stdout",
     "output_type": "stream",
     "text": [
      "                   all        400     160000      0.739      0.576      0.674      0.591\n",
      "\n",
      "      Epoch    GPU_mem   box_loss   cls_loss   dfl_loss  Instances       Size\n"
     ]
    },
    {
     "name": "stderr",
     "output_type": "stream",
     "text": [
      "     25/500      5.49G     0.6801     0.9425     0.8153       1356        768: 100%|██████████| 800/800 [01:07<00:00, 11.77it/s]\n",
      "                 Class     Images  Instances      Box(P          R      mAP50  mAP50-95): 100%|██████████| 100/100 [00:11<00:00,  8.36it/s]\n"
     ]
    },
    {
     "name": "stdout",
     "output_type": "stream",
     "text": [
      "                   all        400     160000      0.677      0.525      0.614      0.543\n",
      "\n",
      "      Epoch    GPU_mem   box_loss   cls_loss   dfl_loss  Instances       Size\n"
     ]
    },
    {
     "name": "stderr",
     "output_type": "stream",
     "text": [
      "     26/500      6.05G     0.6868     0.9187     0.8157       1158        768: 100%|██████████| 800/800 [01:07<00:00, 11.77it/s]\n",
      "                 Class     Images  Instances      Box(P          R      mAP50  mAP50-95): 100%|██████████| 100/100 [00:11<00:00,  8.71it/s]\n"
     ]
    },
    {
     "name": "stdout",
     "output_type": "stream",
     "text": [
      "                   all        400     160000      0.756      0.583      0.686      0.603\n",
      "\n",
      "      Epoch    GPU_mem   box_loss   cls_loss   dfl_loss  Instances       Size\n"
     ]
    },
    {
     "name": "stderr",
     "output_type": "stream",
     "text": [
      "     27/500      4.46G     0.6756      0.898     0.8156       1481        768: 100%|██████████| 800/800 [01:07<00:00, 11.82it/s]\n",
      "                 Class     Images  Instances      Box(P          R      mAP50  mAP50-95): 100%|██████████| 100/100 [00:11<00:00,  8.54it/s]\n"
     ]
    },
    {
     "name": "stdout",
     "output_type": "stream",
     "text": [
      "                   all        400     160000       0.68      0.526      0.615      0.545\n",
      "\n",
      "      Epoch    GPU_mem   box_loss   cls_loss   dfl_loss  Instances       Size\n"
     ]
    },
    {
     "name": "stderr",
     "output_type": "stream",
     "text": [
      "     28/500      4.46G     0.6723     0.8997     0.8131       1273        768: 100%|██████████| 800/800 [01:07<00:00, 11.80it/s]\n",
      "                 Class     Images  Instances      Box(P          R      mAP50  mAP50-95): 100%|██████████| 100/100 [00:11<00:00,  8.78it/s]\n"
     ]
    },
    {
     "name": "stdout",
     "output_type": "stream",
     "text": [
      "                   all        400     160000      0.763      0.589      0.692      0.605\n",
      "\n",
      "      Epoch    GPU_mem   box_loss   cls_loss   dfl_loss  Instances       Size\n"
     ]
    },
    {
     "name": "stderr",
     "output_type": "stream",
     "text": [
      "     29/500      4.46G     0.6702     0.8883     0.8135        764        768: 100%|██████████| 800/800 [01:07<00:00, 11.81it/s]\n",
      "                 Class     Images  Instances      Box(P          R      mAP50  mAP50-95): 100%|██████████| 100/100 [00:12<00:00,  8.30it/s]\n"
     ]
    },
    {
     "name": "stdout",
     "output_type": "stream",
     "text": [
      "                   all        400     160000      0.589      0.449      0.515      0.451\n",
      "\n",
      "      Epoch    GPU_mem   box_loss   cls_loss   dfl_loss  Instances       Size\n"
     ]
    },
    {
     "name": "stderr",
     "output_type": "stream",
     "text": [
      "     30/500      5.05G     0.6697     0.8766     0.8133       1104        768: 100%|██████████| 800/800 [01:07<00:00, 11.83it/s]\n",
      "                 Class     Images  Instances      Box(P          R      mAP50  mAP50-95): 100%|██████████| 100/100 [00:11<00:00,  8.80it/s]\n"
     ]
    },
    {
     "name": "stdout",
     "output_type": "stream",
     "text": [
      "                   all        400     160000      0.711      0.549      0.644      0.567\n",
      "\n",
      "      Epoch    GPU_mem   box_loss   cls_loss   dfl_loss  Instances       Size\n"
     ]
    },
    {
     "name": "stderr",
     "output_type": "stream",
     "text": [
      "     31/500       5.1G     0.6471        0.9     0.8111        438        768: 100%|██████████| 800/800 [01:07<00:00, 11.86it/s]\n",
      "                 Class     Images  Instances      Box(P          R      mAP50  mAP50-95): 100%|██████████| 100/100 [00:11<00:00,  9.02it/s]\n"
     ]
    },
    {
     "name": "stdout",
     "output_type": "stream",
     "text": [
      "                   all        400     160000      0.739      0.569       0.67      0.583\n",
      "\n",
      "      Epoch    GPU_mem   box_loss   cls_loss   dfl_loss  Instances       Size\n"
     ]
    },
    {
     "name": "stderr",
     "output_type": "stream",
     "text": [
      "     32/500       5.1G     0.6588     0.8592     0.8119       1273        768: 100%|██████████| 800/800 [01:07<00:00, 11.91it/s]\n",
      "                 Class     Images  Instances      Box(P          R      mAP50  mAP50-95): 100%|██████████| 100/100 [00:11<00:00,  9.03it/s]\n"
     ]
    },
    {
     "name": "stdout",
     "output_type": "stream",
     "text": [
      "                   all        400     160000      0.761      0.587       0.69      0.608\n",
      "\n",
      "      Epoch    GPU_mem   box_loss   cls_loss   dfl_loss  Instances       Size\n"
     ]
    },
    {
     "name": "stderr",
     "output_type": "stream",
     "text": [
      "     33/500       5.1G     0.6581     0.8553      0.812        842        768: 100%|██████████| 800/800 [01:07<00:00, 11.85it/s]\n",
      "                 Class     Images  Instances      Box(P          R      mAP50  mAP50-95): 100%|██████████| 100/100 [00:11<00:00,  9.03it/s]\n"
     ]
    },
    {
     "name": "stdout",
     "output_type": "stream",
     "text": [
      "                   all        400     160000      0.738      0.568      0.668      0.585\n",
      "\n",
      "      Epoch    GPU_mem   box_loss   cls_loss   dfl_loss  Instances       Size\n"
     ]
    },
    {
     "name": "stderr",
     "output_type": "stream",
     "text": [
      "     34/500       5.1G     0.6454     0.8406     0.8116        597        768: 100%|██████████| 800/800 [01:07<00:00, 11.92it/s]\n",
      "                 Class     Images  Instances      Box(P          R      mAP50  mAP50-95): 100%|██████████| 100/100 [00:10<00:00,  9.43it/s]\n"
     ]
    },
    {
     "name": "stdout",
     "output_type": "stream",
     "text": [
      "                   all        400     160000      0.793      0.617       0.72      0.639\n",
      "\n",
      "      Epoch    GPU_mem   box_loss   cls_loss   dfl_loss  Instances       Size\n"
     ]
    },
    {
     "name": "stderr",
     "output_type": "stream",
     "text": [
      "     35/500       5.1G     0.6517      0.839     0.8107        986        768: 100%|██████████| 800/800 [01:08<00:00, 11.72it/s]\n",
      "                 Class     Images  Instances      Box(P          R      mAP50  mAP50-95): 100%|██████████| 100/100 [00:11<00:00,  9.03it/s]\n"
     ]
    },
    {
     "name": "stdout",
     "output_type": "stream",
     "text": [
      "                   all        400     160000      0.648      0.492      0.571      0.503\n",
      "\n",
      "      Epoch    GPU_mem   box_loss   cls_loss   dfl_loss  Instances       Size\n"
     ]
    },
    {
     "name": "stderr",
     "output_type": "stream",
     "text": [
      "     36/500       5.1G     0.6411     0.8425     0.8097       1335        768: 100%|██████████| 800/800 [01:07<00:00, 11.87it/s]\n",
      "                 Class     Images  Instances      Box(P          R      mAP50  mAP50-95): 100%|██████████| 100/100 [00:10<00:00,  9.42it/s]\n"
     ]
    },
    {
     "name": "stdout",
     "output_type": "stream",
     "text": [
      "                   all        400     160000      0.773      0.596      0.701      0.613\n",
      "\n",
      "      Epoch    GPU_mem   box_loss   cls_loss   dfl_loss  Instances       Size\n"
     ]
    },
    {
     "name": "stderr",
     "output_type": "stream",
     "text": [
      "     37/500       5.1G      0.643     0.8334     0.8101        985        768: 100%|██████████| 800/800 [01:07<00:00, 11.91it/s]\n",
      "                 Class     Images  Instances      Box(P          R      mAP50  mAP50-95): 100%|██████████| 100/100 [00:10<00:00,  9.20it/s]\n"
     ]
    },
    {
     "name": "stdout",
     "output_type": "stream",
     "text": [
      "                   all        400     160000      0.719      0.554      0.648      0.571\n",
      "\n",
      "      Epoch    GPU_mem   box_loss   cls_loss   dfl_loss  Instances       Size\n"
     ]
    },
    {
     "name": "stderr",
     "output_type": "stream",
     "text": [
      "     38/500       5.1G     0.6398     0.8227     0.8089        925        768: 100%|██████████| 800/800 [01:07<00:00, 11.78it/s]\n",
      "                 Class     Images  Instances      Box(P          R      mAP50  mAP50-95): 100%|██████████| 100/100 [00:10<00:00,  9.45it/s]\n"
     ]
    },
    {
     "name": "stdout",
     "output_type": "stream",
     "text": [
      "                   all        400     160000      0.753      0.575      0.677      0.592\n",
      "\n",
      "      Epoch    GPU_mem   box_loss   cls_loss   dfl_loss  Instances       Size\n"
     ]
    },
    {
     "name": "stderr",
     "output_type": "stream",
     "text": [
      "     39/500       5.1G      0.632      0.843      0.808        708        768: 100%|██████████| 800/800 [01:06<00:00, 12.02it/s]\n",
      "                 Class     Images  Instances      Box(P          R      mAP50  mAP50-95): 100%|██████████| 100/100 [00:09<00:00, 10.07it/s]\n"
     ]
    },
    {
     "name": "stdout",
     "output_type": "stream",
     "text": [
      "                   all        400     160000      0.725      0.561      0.657      0.579\n",
      "\n",
      "      Epoch    GPU_mem   box_loss   cls_loss   dfl_loss  Instances       Size\n"
     ]
    },
    {
     "name": "stderr",
     "output_type": "stream",
     "text": [
      "     40/500       5.1G     0.6397     0.8164     0.8094       1635        768: 100%|██████████| 800/800 [01:04<00:00, 12.40it/s]\n",
      "                 Class     Images  Instances      Box(P          R      mAP50  mAP50-95): 100%|██████████| 100/100 [00:09<00:00, 10.21it/s]"
     ]
    },
    {
     "name": "stdout",
     "output_type": "stream",
     "text": [
      "                   all        400     160000      0.794       0.61      0.717      0.636\n"
     ]
    },
    {
     "name": "stderr",
     "output_type": "stream",
     "text": [
      "\n"
     ]
    },
    {
     "name": "stdout",
     "output_type": "stream",
     "text": [
      "\n",
      "      Epoch    GPU_mem   box_loss   cls_loss   dfl_loss  Instances       Size\n"
     ]
    },
    {
     "name": "stderr",
     "output_type": "stream",
     "text": [
      "     41/500       5.1G      0.632     0.8148     0.8087        647        768: 100%|██████████| 800/800 [01:04<00:00, 12.42it/s]\n",
      "                 Class     Images  Instances      Box(P          R      mAP50  mAP50-95): 100%|██████████| 100/100 [00:10<00:00,  9.48it/s]\n"
     ]
    },
    {
     "name": "stdout",
     "output_type": "stream",
     "text": [
      "                   all        400     160000      0.452      0.346      0.379      0.329\n",
      "\n",
      "      Epoch    GPU_mem   box_loss   cls_loss   dfl_loss  Instances       Size\n"
     ]
    },
    {
     "name": "stderr",
     "output_type": "stream",
     "text": [
      "     42/500       5.1G     0.6399     0.8067     0.8085       1067        768: 100%|██████████| 800/800 [01:04<00:00, 12.38it/s]\n",
      "                 Class     Images  Instances      Box(P          R      mAP50  mAP50-95): 100%|██████████| 100/100 [00:09<00:00, 10.27it/s]"
     ]
    },
    {
     "name": "stdout",
     "output_type": "stream",
     "text": [
      "                   all        400     160000      0.712      0.547      0.639      0.566\n"
     ]
    },
    {
     "name": "stderr",
     "output_type": "stream",
     "text": [
      "\n"
     ]
    },
    {
     "name": "stdout",
     "output_type": "stream",
     "text": [
      "\n",
      "      Epoch    GPU_mem   box_loss   cls_loss   dfl_loss  Instances       Size\n"
     ]
    },
    {
     "name": "stderr",
     "output_type": "stream",
     "text": [
      "     43/500       5.1G     0.6231     0.7964      0.808        636        768: 100%|██████████| 800/800 [01:04<00:00, 12.41it/s]\n",
      "                 Class     Images  Instances      Box(P          R      mAP50  mAP50-95): 100%|██████████| 100/100 [00:09<00:00, 10.00it/s]"
     ]
    },
    {
     "name": "stdout",
     "output_type": "stream",
     "text": [
      "                   all        400     160000       0.65      0.495      0.572      0.504\n"
     ]
    },
    {
     "name": "stderr",
     "output_type": "stream",
     "text": [
      "\n"
     ]
    },
    {
     "name": "stdout",
     "output_type": "stream",
     "text": [
      "\n",
      "      Epoch    GPU_mem   box_loss   cls_loss   dfl_loss  Instances       Size\n"
     ]
    },
    {
     "name": "stderr",
     "output_type": "stream",
     "text": [
      "     44/500      5.65G     0.6275     0.8043     0.8067        818        768: 100%|██████████| 800/800 [01:04<00:00, 12.38it/s]\n",
      "                 Class     Images  Instances      Box(P          R      mAP50  mAP50-95): 100%|██████████| 100/100 [00:09<00:00, 10.39it/s]"
     ]
    },
    {
     "name": "stdout",
     "output_type": "stream",
     "text": [
      "                   all        400     160000      0.803      0.617      0.725      0.645\n"
     ]
    },
    {
     "name": "stderr",
     "output_type": "stream",
     "text": [
      "\n"
     ]
    },
    {
     "name": "stdout",
     "output_type": "stream",
     "text": [
      "\n",
      "      Epoch    GPU_mem   box_loss   cls_loss   dfl_loss  Instances       Size\n"
     ]
    },
    {
     "name": "stderr",
     "output_type": "stream",
     "text": [
      "     45/500      5.65G     0.6283     0.8117     0.8064        429        768: 100%|██████████| 800/800 [01:04<00:00, 12.44it/s]\n",
      "                 Class     Images  Instances      Box(P          R      mAP50  mAP50-95): 100%|██████████| 100/100 [00:09<00:00, 10.40it/s]"
     ]
    },
    {
     "name": "stdout",
     "output_type": "stream",
     "text": [
      "                   all        400     160000      0.786      0.607      0.713      0.633\n"
     ]
    },
    {
     "name": "stderr",
     "output_type": "stream",
     "text": [
      "\n"
     ]
    },
    {
     "name": "stdout",
     "output_type": "stream",
     "text": [
      "\n",
      "      Epoch    GPU_mem   box_loss   cls_loss   dfl_loss  Instances       Size\n"
     ]
    },
    {
     "name": "stderr",
     "output_type": "stream",
     "text": [
      "     46/500      5.65G     0.6264     0.7769      0.808       1452        768: 100%|██████████| 800/800 [01:03<00:00, 12.51it/s]\n",
      "                 Class     Images  Instances      Box(P          R      mAP50  mAP50-95): 100%|██████████| 100/100 [00:09<00:00, 10.10it/s]"
     ]
    },
    {
     "name": "stdout",
     "output_type": "stream",
     "text": [
      "                   all        400     160000      0.665        0.5      0.582      0.509\n"
     ]
    },
    {
     "name": "stderr",
     "output_type": "stream",
     "text": [
      "\n"
     ]
    },
    {
     "name": "stdout",
     "output_type": "stream",
     "text": [
      "\n",
      "      Epoch    GPU_mem   box_loss   cls_loss   dfl_loss  Instances       Size\n"
     ]
    },
    {
     "name": "stderr",
     "output_type": "stream",
     "text": [
      "     47/500      5.65G     0.6187     0.7884     0.8068       1074        768: 100%|██████████| 800/800 [01:04<00:00, 12.46it/s]\n",
      "                 Class     Images  Instances      Box(P          R      mAP50  mAP50-95): 100%|██████████| 100/100 [00:09<00:00, 10.35it/s]\n"
     ]
    },
    {
     "name": "stdout",
     "output_type": "stream",
     "text": [
      "                   all        400     160000      0.726      0.555       0.65      0.572\n",
      "\n",
      "      Epoch    GPU_mem   box_loss   cls_loss   dfl_loss  Instances       Size\n"
     ]
    },
    {
     "name": "stderr",
     "output_type": "stream",
     "text": [
      "     48/500      5.65G     0.6235     0.7832     0.8062       1277        768: 100%|██████████| 800/800 [01:04<00:00, 12.34it/s]\n",
      "                 Class     Images  Instances      Box(P          R      mAP50  mAP50-95): 100%|██████████| 100/100 [00:09<00:00, 10.55it/s]\n"
     ]
    },
    {
     "name": "stdout",
     "output_type": "stream",
     "text": [
      "                   all        400     160000      0.816      0.629      0.737      0.657\n",
      "\n",
      "      Epoch    GPU_mem   box_loss   cls_loss   dfl_loss  Instances       Size\n"
     ]
    },
    {
     "name": "stderr",
     "output_type": "stream",
     "text": [
      "     49/500      5.65G     0.6301     0.7772     0.8063       1469        768: 100%|██████████| 800/800 [01:04<00:00, 12.41it/s]\n",
      "                 Class     Images  Instances      Box(P          R      mAP50  mAP50-95): 100%|██████████| 100/100 [00:09<00:00, 10.56it/s]"
     ]
    },
    {
     "name": "stdout",
     "output_type": "stream",
     "text": [
      "                   all        400     160000       0.81      0.623      0.732      0.648\n"
     ]
    },
    {
     "name": "stderr",
     "output_type": "stream",
     "text": [
      "\n"
     ]
    },
    {
     "name": "stdout",
     "output_type": "stream",
     "text": [
      "\n",
      "      Epoch    GPU_mem   box_loss   cls_loss   dfl_loss  Instances       Size\n"
     ]
    },
    {
     "name": "stderr",
     "output_type": "stream",
     "text": [
      "     50/500      5.65G      0.616     0.7767      0.805        928        768: 100%|██████████| 800/800 [01:04<00:00, 12.42it/s]\n",
      "                 Class     Images  Instances      Box(P          R      mAP50  mAP50-95): 100%|██████████| 100/100 [00:09<00:00, 10.49it/s]"
     ]
    },
    {
     "name": "stdout",
     "output_type": "stream",
     "text": [
      "                   all        400     160000      0.724      0.556       0.65      0.579\n"
     ]
    },
    {
     "name": "stderr",
     "output_type": "stream",
     "text": [
      "\n"
     ]
    },
    {
     "name": "stdout",
     "output_type": "stream",
     "text": [
      "\n",
      "      Epoch    GPU_mem   box_loss   cls_loss   dfl_loss  Instances       Size\n"
     ]
    },
    {
     "name": "stderr",
     "output_type": "stream",
     "text": [
      "     51/500      5.65G     0.6208     0.7713     0.8054        486        768: 100%|██████████| 800/800 [01:04<00:00, 12.41it/s]\n",
      "                 Class     Images  Instances      Box(P          R      mAP50  mAP50-95): 100%|██████████| 100/100 [00:09<00:00, 10.58it/s]"
     ]
    },
    {
     "name": "stdout",
     "output_type": "stream",
     "text": [
      "                   all        400     160000      0.801      0.621      0.726      0.642\n"
     ]
    },
    {
     "name": "stderr",
     "output_type": "stream",
     "text": [
      "\n"
     ]
    },
    {
     "name": "stdout",
     "output_type": "stream",
     "text": [
      "\n",
      "      Epoch    GPU_mem   box_loss   cls_loss   dfl_loss  Instances       Size\n"
     ]
    },
    {
     "name": "stderr",
     "output_type": "stream",
     "text": [
      "     52/500      5.66G     0.6176     0.7731     0.8056        999        768: 100%|██████████| 800/800 [01:04<00:00, 12.44it/s]\n",
      "                 Class     Images  Instances      Box(P          R      mAP50  mAP50-95): 100%|██████████| 100/100 [00:09<00:00, 10.55it/s]"
     ]
    },
    {
     "name": "stdout",
     "output_type": "stream",
     "text": [
      "                   all        400     160000      0.808      0.624      0.732      0.653\n"
     ]
    },
    {
     "name": "stderr",
     "output_type": "stream",
     "text": [
      "\n"
     ]
    },
    {
     "name": "stdout",
     "output_type": "stream",
     "text": [
      "\n",
      "      Epoch    GPU_mem   box_loss   cls_loss   dfl_loss  Instances       Size\n"
     ]
    },
    {
     "name": "stderr",
     "output_type": "stream",
     "text": [
      "     53/500      5.66G     0.6082     0.7875      0.805        515        768: 100%|██████████| 800/800 [01:04<00:00, 12.39it/s]\n",
      "                 Class     Images  Instances      Box(P          R      mAP50  mAP50-95): 100%|██████████| 100/100 [00:09<00:00, 10.53it/s]"
     ]
    },
    {
     "name": "stdout",
     "output_type": "stream",
     "text": [
      "                   all        400     160000      0.838      0.643      0.754      0.669\n"
     ]
    },
    {
     "name": "stderr",
     "output_type": "stream",
     "text": [
      "\n"
     ]
    },
    {
     "name": "stdout",
     "output_type": "stream",
     "text": [
      "\n",
      "      Epoch    GPU_mem   box_loss   cls_loss   dfl_loss  Instances       Size\n"
     ]
    },
    {
     "name": "stderr",
     "output_type": "stream",
     "text": [
      "     54/500       5.7G      0.618     0.7675     0.8049        588        768: 100%|██████████| 800/800 [01:04<00:00, 12.41it/s]\n",
      "                 Class     Images  Instances      Box(P          R      mAP50  mAP50-95): 100%|██████████| 100/100 [00:09<00:00, 10.50it/s]"
     ]
    },
    {
     "name": "stdout",
     "output_type": "stream",
     "text": [
      "                   all        400     160000      0.754       0.58       0.68      0.605\n"
     ]
    },
    {
     "name": "stderr",
     "output_type": "stream",
     "text": [
      "\n"
     ]
    },
    {
     "name": "stdout",
     "output_type": "stream",
     "text": [
      "\n",
      "      Epoch    GPU_mem   box_loss   cls_loss   dfl_loss  Instances       Size\n"
     ]
    },
    {
     "name": "stderr",
     "output_type": "stream",
     "text": [
      "     55/500      5.74G     0.6154     0.7516     0.8061        848        768: 100%|██████████| 800/800 [01:03<00:00, 12.54it/s]\n",
      "                 Class     Images  Instances      Box(P          R      mAP50  mAP50-95): 100%|██████████| 100/100 [00:09<00:00, 10.48it/s]"
     ]
    },
    {
     "name": "stdout",
     "output_type": "stream",
     "text": [
      "                   all        400     160000      0.773      0.587      0.695      0.616\n"
     ]
    },
    {
     "name": "stderr",
     "output_type": "stream",
     "text": [
      "\n"
     ]
    },
    {
     "name": "stdout",
     "output_type": "stream",
     "text": [
      "\n",
      "      Epoch    GPU_mem   box_loss   cls_loss   dfl_loss  Instances       Size\n"
     ]
    },
    {
     "name": "stderr",
     "output_type": "stream",
     "text": [
      "     56/500       6.3G     0.6067     0.7656     0.8043       1097        768: 100%|██████████| 800/800 [01:04<00:00, 12.39it/s]\n",
      "                 Class     Images  Instances      Box(P          R      mAP50  mAP50-95): 100%|██████████| 100/100 [00:09<00:00, 10.62it/s]"
     ]
    },
    {
     "name": "stdout",
     "output_type": "stream",
     "text": [
      "                   all        400     160000      0.794      0.613      0.718      0.637\n"
     ]
    },
    {
     "name": "stderr",
     "output_type": "stream",
     "text": [
      "\n"
     ]
    },
    {
     "name": "stdout",
     "output_type": "stream",
     "text": [
      "\n",
      "      Epoch    GPU_mem   box_loss   cls_loss   dfl_loss  Instances       Size\n"
     ]
    },
    {
     "name": "stderr",
     "output_type": "stream",
     "text": [
      "     57/500       4.9G     0.6137     0.7537     0.8051       1679        768: 100%|██████████| 800/800 [01:04<00:00, 12.45it/s]\n",
      "                 Class     Images  Instances      Box(P          R      mAP50  mAP50-95): 100%|██████████| 100/100 [00:09<00:00, 10.40it/s]"
     ]
    },
    {
     "name": "stdout",
     "output_type": "stream",
     "text": [
      "                   all        400     160000      0.827      0.635      0.745       0.66\n"
     ]
    },
    {
     "name": "stderr",
     "output_type": "stream",
     "text": [
      "\n"
     ]
    },
    {
     "name": "stdout",
     "output_type": "stream",
     "text": [
      "\n",
      "      Epoch    GPU_mem   box_loss   cls_loss   dfl_loss  Instances       Size\n"
     ]
    },
    {
     "name": "stderr",
     "output_type": "stream",
     "text": [
      "     58/500      5.46G      0.613     0.7452     0.8043        807        768: 100%|██████████| 800/800 [01:04<00:00, 12.40it/s]\n",
      "                 Class     Images  Instances      Box(P          R      mAP50  mAP50-95): 100%|██████████| 100/100 [00:09<00:00, 10.66it/s]"
     ]
    },
    {
     "name": "stdout",
     "output_type": "stream",
     "text": [
      "                   all        400     160000      0.769      0.586      0.688       0.61\n"
     ]
    },
    {
     "name": "stderr",
     "output_type": "stream",
     "text": [
      "\n"
     ]
    },
    {
     "name": "stdout",
     "output_type": "stream",
     "text": [
      "\n",
      "      Epoch    GPU_mem   box_loss   cls_loss   dfl_loss  Instances       Size\n"
     ]
    },
    {
     "name": "stderr",
     "output_type": "stream",
     "text": [
      "     59/500      5.49G     0.6115     0.7578     0.8036        924        768: 100%|██████████| 800/800 [01:05<00:00, 12.29it/s]\n",
      "                 Class     Images  Instances      Box(P          R      mAP50  mAP50-95): 100%|██████████| 100/100 [00:09<00:00, 10.58it/s]"
     ]
    },
    {
     "name": "stdout",
     "output_type": "stream",
     "text": [
      "                   all        400     160000      0.853      0.654      0.766      0.681\n"
     ]
    },
    {
     "name": "stderr",
     "output_type": "stream",
     "text": [
      "\n"
     ]
    },
    {
     "name": "stdout",
     "output_type": "stream",
     "text": [
      "\n",
      "      Epoch    GPU_mem   box_loss   cls_loss   dfl_loss  Instances       Size\n"
     ]
    },
    {
     "name": "stderr",
     "output_type": "stream",
     "text": [
      "     60/500      5.54G     0.6061     0.7309     0.8031        543        768: 100%|██████████| 800/800 [01:04<00:00, 12.42it/s]\n",
      "                 Class     Images  Instances      Box(P          R      mAP50  mAP50-95): 100%|██████████| 100/100 [00:09<00:00, 10.71it/s]"
     ]
    },
    {
     "name": "stdout",
     "output_type": "stream",
     "text": [
      "                   all        400     160000      0.783      0.602      0.706      0.632\n"
     ]
    },
    {
     "name": "stderr",
     "output_type": "stream",
     "text": [
      "\n"
     ]
    },
    {
     "name": "stdout",
     "output_type": "stream",
     "text": [
      "\n",
      "      Epoch    GPU_mem   box_loss   cls_loss   dfl_loss  Instances       Size\n"
     ]
    },
    {
     "name": "stderr",
     "output_type": "stream",
     "text": [
      "     61/500      5.58G     0.5995     0.7296     0.8031        694        768: 100%|██████████| 800/800 [01:03<00:00, 12.50it/s]\n",
      "                 Class     Images  Instances      Box(P          R      mAP50  mAP50-95): 100%|██████████| 100/100 [00:09<00:00, 10.60it/s]"
     ]
    },
    {
     "name": "stdout",
     "output_type": "stream",
     "text": [
      "                   all        400     160000      0.791      0.601      0.709      0.628\n"
     ]
    },
    {
     "name": "stderr",
     "output_type": "stream",
     "text": [
      "\n"
     ]
    },
    {
     "name": "stdout",
     "output_type": "stream",
     "text": [
      "\n",
      "      Epoch    GPU_mem   box_loss   cls_loss   dfl_loss  Instances       Size\n"
     ]
    },
    {
     "name": "stderr",
     "output_type": "stream",
     "text": [
      "     62/500      5.58G     0.6082     0.7332     0.8039        463        768: 100%|██████████| 800/800 [01:04<00:00, 12.42it/s]\n",
      "                 Class     Images  Instances      Box(P          R      mAP50  mAP50-95): 100%|██████████| 100/100 [00:09<00:00, 10.85it/s]"
     ]
    },
    {
     "name": "stdout",
     "output_type": "stream",
     "text": [
      "                   all        400     160000      0.844      0.648      0.759      0.679\n"
     ]
    },
    {
     "name": "stderr",
     "output_type": "stream",
     "text": [
      "\n"
     ]
    },
    {
     "name": "stdout",
     "output_type": "stream",
     "text": [
      "\n",
      "      Epoch    GPU_mem   box_loss   cls_loss   dfl_loss  Instances       Size\n"
     ]
    },
    {
     "name": "stderr",
     "output_type": "stream",
     "text": [
      "     63/500      5.58G      0.601      0.727     0.8035       1119        768: 100%|██████████| 800/800 [01:04<00:00, 12.37it/s]\n",
      "                 Class     Images  Instances      Box(P          R      mAP50  mAP50-95): 100%|██████████| 100/100 [00:09<00:00, 10.80it/s]"
     ]
    },
    {
     "name": "stdout",
     "output_type": "stream",
     "text": [
      "                   all        400     160000       0.82       0.63       0.74       0.66\n"
     ]
    },
    {
     "name": "stderr",
     "output_type": "stream",
     "text": [
      "\n"
     ]
    },
    {
     "name": "stdout",
     "output_type": "stream",
     "text": [
      "\n",
      "      Epoch    GPU_mem   box_loss   cls_loss   dfl_loss  Instances       Size\n"
     ]
    },
    {
     "name": "stderr",
     "output_type": "stream",
     "text": [
      "     64/500      5.62G     0.5997     0.7345     0.8026        410        768: 100%|██████████| 800/800 [01:04<00:00, 12.40it/s]\n",
      "                 Class     Images  Instances      Box(P          R      mAP50  mAP50-95): 100%|██████████| 100/100 [00:09<00:00, 10.73it/s]"
     ]
    },
    {
     "name": "stdout",
     "output_type": "stream",
     "text": [
      "                   all        400     160000      0.792      0.608      0.715      0.633\n"
     ]
    },
    {
     "name": "stderr",
     "output_type": "stream",
     "text": [
      "\n"
     ]
    },
    {
     "name": "stdout",
     "output_type": "stream",
     "text": [
      "\n",
      "      Epoch    GPU_mem   box_loss   cls_loss   dfl_loss  Instances       Size\n"
     ]
    },
    {
     "name": "stderr",
     "output_type": "stream",
     "text": [
      "     65/500      5.62G     0.6012     0.7299     0.8032        764        768: 100%|██████████| 800/800 [01:04<00:00, 12.41it/s]\n",
      "                 Class     Images  Instances      Box(P          R      mAP50  mAP50-95): 100%|██████████| 100/100 [00:09<00:00, 10.88it/s]\n"
     ]
    },
    {
     "name": "stdout",
     "output_type": "stream",
     "text": [
      "                   all        400     160000      0.858      0.657       0.77      0.687\n",
      "\n",
      "      Epoch    GPU_mem   box_loss   cls_loss   dfl_loss  Instances       Size\n"
     ]
    },
    {
     "name": "stderr",
     "output_type": "stream",
     "text": [
      "     66/500      6.18G     0.6027      0.727     0.8027        695        768: 100%|██████████| 800/800 [01:04<00:00, 12.31it/s]\n",
      "                 Class     Images  Instances      Box(P          R      mAP50  mAP50-95): 100%|██████████| 100/100 [00:09<00:00, 10.72it/s]"
     ]
    },
    {
     "name": "stdout",
     "output_type": "stream",
     "text": [
      "                   all        400     160000       0.83      0.638      0.748      0.668\n"
     ]
    },
    {
     "name": "stderr",
     "output_type": "stream",
     "text": [
      "\n"
     ]
    },
    {
     "name": "stdout",
     "output_type": "stream",
     "text": [
      "\n",
      "      Epoch    GPU_mem   box_loss   cls_loss   dfl_loss  Instances       Size\n"
     ]
    },
    {
     "name": "stderr",
     "output_type": "stream",
     "text": [
      "     67/500      4.75G     0.6031     0.7198     0.8031       1576        768: 100%|██████████| 800/800 [01:04<00:00, 12.45it/s]\n",
      "                 Class     Images  Instances      Box(P          R      mAP50  mAP50-95): 100%|██████████| 100/100 [00:09<00:00, 10.80it/s]"
     ]
    },
    {
     "name": "stdout",
     "output_type": "stream",
     "text": [
      "                   all        400     160000      0.783        0.6      0.705      0.623\n"
     ]
    },
    {
     "name": "stderr",
     "output_type": "stream",
     "text": [
      "\n"
     ]
    },
    {
     "name": "stdout",
     "output_type": "stream",
     "text": [
      "\n",
      "      Epoch    GPU_mem   box_loss   cls_loss   dfl_loss  Instances       Size\n"
     ]
    },
    {
     "name": "stderr",
     "output_type": "stream",
     "text": [
      "     68/500      5.28G     0.5848     0.7373     0.8018       1132        768: 100%|██████████| 800/800 [01:04<00:00, 12.45it/s]\n",
      "                 Class     Images  Instances      Box(P          R      mAP50  mAP50-95): 100%|██████████| 100/100 [00:09<00:00, 10.77it/s]\n"
     ]
    },
    {
     "name": "stdout",
     "output_type": "stream",
     "text": [
      "                   all        400     160000      0.839      0.637      0.754      0.671\n",
      "\n",
      "      Epoch    GPU_mem   box_loss   cls_loss   dfl_loss  Instances       Size\n"
     ]
    },
    {
     "name": "stderr",
     "output_type": "stream",
     "text": [
      "     69/500      5.32G     0.5985     0.7273     0.8027       1269        768: 100%|██████████| 800/800 [01:04<00:00, 12.48it/s]\n",
      "                 Class     Images  Instances      Box(P          R      mAP50  mAP50-95): 100%|██████████| 100/100 [00:09<00:00, 10.63it/s]\n"
     ]
    },
    {
     "name": "stdout",
     "output_type": "stream",
     "text": [
      "                   all        400     160000      0.771      0.589      0.693      0.617\n",
      "\n",
      "      Epoch    GPU_mem   box_loss   cls_loss   dfl_loss  Instances       Size\n"
     ]
    },
    {
     "name": "stderr",
     "output_type": "stream",
     "text": [
      "     70/500      5.37G     0.5946     0.7164     0.8019       1339        768: 100%|██████████| 800/800 [01:05<00:00, 12.27it/s]\n",
      "                 Class     Images  Instances      Box(P          R      mAP50  mAP50-95): 100%|██████████| 100/100 [00:09<00:00, 10.86it/s]"
     ]
    },
    {
     "name": "stdout",
     "output_type": "stream",
     "text": [
      "                   all        400     160000      0.801      0.617      0.724      0.646\n"
     ]
    },
    {
     "name": "stderr",
     "output_type": "stream",
     "text": [
      "\n"
     ]
    },
    {
     "name": "stdout",
     "output_type": "stream",
     "text": [
      "\n",
      "      Epoch    GPU_mem   box_loss   cls_loss   dfl_loss  Instances       Size\n"
     ]
    },
    {
     "name": "stderr",
     "output_type": "stream",
     "text": [
      "     71/500      5.41G     0.5928     0.7179     0.8015        632        768: 100%|██████████| 800/800 [01:04<00:00, 12.41it/s]\n",
      "                 Class     Images  Instances      Box(P          R      mAP50  mAP50-95): 100%|██████████| 100/100 [00:09<00:00, 10.79it/s]"
     ]
    },
    {
     "name": "stdout",
     "output_type": "stream",
     "text": [
      "                   all        400     160000      0.821      0.631      0.741      0.663\n"
     ]
    },
    {
     "name": "stderr",
     "output_type": "stream",
     "text": [
      "\n"
     ]
    },
    {
     "name": "stdout",
     "output_type": "stream",
     "text": [
      "\n",
      "      Epoch    GPU_mem   box_loss   cls_loss   dfl_loss  Instances       Size\n"
     ]
    },
    {
     "name": "stderr",
     "output_type": "stream",
     "text": [
      "     72/500      6.51G     0.5942     0.7132     0.8013        618        768: 100%|██████████| 800/800 [01:05<00:00, 12.31it/s]\n",
      "                 Class     Images  Instances      Box(P          R      mAP50  mAP50-95): 100%|██████████| 100/100 [00:09<00:00, 10.76it/s]"
     ]
    },
    {
     "name": "stdout",
     "output_type": "stream",
     "text": [
      "                   all        400     160000      0.808      0.619       0.73       0.65\n"
     ]
    },
    {
     "name": "stderr",
     "output_type": "stream",
     "text": [
      "\n"
     ]
    },
    {
     "name": "stdout",
     "output_type": "stream",
     "text": [
      "\n",
      "      Epoch    GPU_mem   box_loss   cls_loss   dfl_loss  Instances       Size\n"
     ]
    },
    {
     "name": "stderr",
     "output_type": "stream",
     "text": [
      "     73/500      4.42G     0.5861     0.7045     0.8001        969        768: 100%|██████████| 800/800 [01:04<00:00, 12.39it/s]\n",
      "                 Class     Images  Instances      Box(P          R      mAP50  mAP50-95): 100%|██████████| 100/100 [00:09<00:00, 10.85it/s]\n"
     ]
    },
    {
     "name": "stdout",
     "output_type": "stream",
     "text": [
      "                   all        400     160000      0.841      0.644      0.756      0.679\n",
      "\n",
      "      Epoch    GPU_mem   box_loss   cls_loss   dfl_loss  Instances       Size\n"
     ]
    },
    {
     "name": "stderr",
     "output_type": "stream",
     "text": [
      "     74/500      4.96G     0.5849     0.7067     0.8012       1349        768: 100%|██████████| 800/800 [01:04<00:00, 12.41it/s]\n",
      "                 Class     Images  Instances      Box(P          R      mAP50  mAP50-95): 100%|██████████| 100/100 [00:09<00:00, 10.80it/s]"
     ]
    },
    {
     "name": "stdout",
     "output_type": "stream",
     "text": [
      "                   all        400     160000      0.775      0.595      0.697      0.621\n"
     ]
    },
    {
     "name": "stderr",
     "output_type": "stream",
     "text": [
      "\n"
     ]
    },
    {
     "name": "stdout",
     "output_type": "stream",
     "text": [
      "\n",
      "      Epoch    GPU_mem   box_loss   cls_loss   dfl_loss  Instances       Size\n"
     ]
    },
    {
     "name": "stderr",
     "output_type": "stream",
     "text": [
      "     75/500      5.52G     0.5922     0.6942     0.8023       1091        768: 100%|██████████| 800/800 [01:04<00:00, 12.46it/s]\n",
      "                 Class     Images  Instances      Box(P          R      mAP50  mAP50-95): 100%|██████████| 100/100 [00:09<00:00, 10.69it/s]\n"
     ]
    },
    {
     "name": "stdout",
     "output_type": "stream",
     "text": [
      "                   all        400     160000      0.757      0.574      0.675      0.602\n",
      "\n",
      "      Epoch    GPU_mem   box_loss   cls_loss   dfl_loss  Instances       Size\n"
     ]
    },
    {
     "name": "stderr",
     "output_type": "stream",
     "text": [
      "     76/500      5.56G     0.5904     0.7013     0.8017       1935        768: 100%|██████████| 800/800 [01:04<00:00, 12.39it/s]\n",
      "                 Class     Images  Instances      Box(P          R      mAP50  mAP50-95): 100%|██████████| 100/100 [00:09<00:00, 10.87it/s]"
     ]
    },
    {
     "name": "stdout",
     "output_type": "stream",
     "text": [
      "                   all        400     160000      0.826      0.634      0.744      0.664\n"
     ]
    },
    {
     "name": "stderr",
     "output_type": "stream",
     "text": [
      "\n"
     ]
    },
    {
     "name": "stdout",
     "output_type": "stream",
     "text": [
      "\n",
      "      Epoch    GPU_mem   box_loss   cls_loss   dfl_loss  Instances       Size\n"
     ]
    },
    {
     "name": "stderr",
     "output_type": "stream",
     "text": [
      "     77/500      5.61G     0.5872     0.6929     0.8017        576        768: 100%|██████████| 800/800 [01:04<00:00, 12.41it/s]\n",
      "                 Class     Images  Instances      Box(P          R      mAP50  mAP50-95): 100%|██████████| 100/100 [00:09<00:00, 10.93it/s]"
     ]
    },
    {
     "name": "stdout",
     "output_type": "stream",
     "text": [
      "                   all        400     160000       0.85      0.652      0.764      0.683\n"
     ]
    },
    {
     "name": "stderr",
     "output_type": "stream",
     "text": [
      "\n"
     ]
    },
    {
     "name": "stdout",
     "output_type": "stream",
     "text": [
      "\n",
      "      Epoch    GPU_mem   box_loss   cls_loss   dfl_loss  Instances       Size\n"
     ]
    },
    {
     "name": "stderr",
     "output_type": "stream",
     "text": [
      "     78/500      5.61G     0.5823     0.6909     0.8015        713        768: 100%|██████████| 800/800 [01:04<00:00, 12.49it/s]\n",
      "                 Class     Images  Instances      Box(P          R      mAP50  mAP50-95): 100%|██████████| 100/100 [00:09<00:00, 10.92it/s]\n"
     ]
    },
    {
     "name": "stdout",
     "output_type": "stream",
     "text": [
      "                   all        400     160000      0.846      0.648      0.761      0.678\n",
      "\n",
      "      Epoch    GPU_mem   box_loss   cls_loss   dfl_loss  Instances       Size\n"
     ]
    },
    {
     "name": "stderr",
     "output_type": "stream",
     "text": [
      "     79/500      5.61G      0.584     0.6971     0.8013       1064        768: 100%|██████████| 800/800 [01:04<00:00, 12.38it/s]\n",
      "                 Class     Images  Instances      Box(P          R      mAP50  mAP50-95): 100%|██████████| 100/100 [00:09<00:00, 11.01it/s]"
     ]
    },
    {
     "name": "stdout",
     "output_type": "stream",
     "text": [
      "                   all        400     160000      0.862      0.663      0.776       0.69\n"
     ]
    },
    {
     "name": "stderr",
     "output_type": "stream",
     "text": [
      "\n"
     ]
    },
    {
     "name": "stdout",
     "output_type": "stream",
     "text": [
      "\n",
      "      Epoch    GPU_mem   box_loss   cls_loss   dfl_loss  Instances       Size\n"
     ]
    },
    {
     "name": "stderr",
     "output_type": "stream",
     "text": [
      "     80/500      5.65G     0.5914     0.6974     0.7999       1126        768: 100%|██████████| 800/800 [01:04<00:00, 12.35it/s]\n",
      "                 Class     Images  Instances      Box(P          R      mAP50  mAP50-95): 100%|██████████| 100/100 [00:09<00:00, 11.08it/s]\n"
     ]
    },
    {
     "name": "stdout",
     "output_type": "stream",
     "text": [
      "                   all        400     160000      0.888      0.681      0.795      0.713\n",
      "\n",
      "      Epoch    GPU_mem   box_loss   cls_loss   dfl_loss  Instances       Size\n"
     ]
    },
    {
     "name": "stderr",
     "output_type": "stream",
     "text": [
      "     81/500      5.65G      0.583     0.6867     0.8012       2172        768: 100%|██████████| 800/800 [01:04<00:00, 12.45it/s]\n",
      "                 Class     Images  Instances      Box(P          R      mAP50  mAP50-95): 100%|██████████| 100/100 [00:09<00:00, 11.01it/s]"
     ]
    },
    {
     "name": "stdout",
     "output_type": "stream",
     "text": [
      "                   all        400     160000      0.806      0.612      0.723      0.645\n"
     ]
    },
    {
     "name": "stderr",
     "output_type": "stream",
     "text": [
      "\n"
     ]
    },
    {
     "name": "stdout",
     "output_type": "stream",
     "text": [
      "\n",
      "      Epoch    GPU_mem   box_loss   cls_loss   dfl_loss  Instances       Size\n"
     ]
    },
    {
     "name": "stderr",
     "output_type": "stream",
     "text": [
      "     82/500      5.65G     0.5806     0.6805     0.8003        434        768: 100%|██████████| 800/800 [01:04<00:00, 12.48it/s]\n",
      "                 Class     Images  Instances      Box(P          R      mAP50  mAP50-95): 100%|██████████| 100/100 [00:09<00:00, 10.97it/s]"
     ]
    },
    {
     "name": "stdout",
     "output_type": "stream",
     "text": [
      "                   all        400     160000      0.835      0.644      0.754      0.675\n"
     ]
    },
    {
     "name": "stderr",
     "output_type": "stream",
     "text": [
      "\n"
     ]
    },
    {
     "name": "stdout",
     "output_type": "stream",
     "text": [
      "\n",
      "      Epoch    GPU_mem   box_loss   cls_loss   dfl_loss  Instances       Size\n"
     ]
    },
    {
     "name": "stderr",
     "output_type": "stream",
     "text": [
      "     83/500      5.65G     0.5832     0.6787     0.8005       2118        768: 100%|██████████| 800/800 [01:04<00:00, 12.43it/s]\n",
      "                 Class     Images  Instances      Box(P          R      mAP50  mAP50-95): 100%|██████████| 100/100 [00:09<00:00, 11.00it/s]"
     ]
    },
    {
     "name": "stdout",
     "output_type": "stream",
     "text": [
      "                   all        400     160000      0.858      0.662      0.773      0.692\n"
     ]
    },
    {
     "name": "stderr",
     "output_type": "stream",
     "text": [
      "\n"
     ]
    },
    {
     "name": "stdout",
     "output_type": "stream",
     "text": [
      "\n",
      "      Epoch    GPU_mem   box_loss   cls_loss   dfl_loss  Instances       Size\n"
     ]
    },
    {
     "name": "stderr",
     "output_type": "stream",
     "text": [
      "     84/500      5.65G     0.5797     0.6772     0.8012       1277        768: 100%|██████████| 800/800 [01:03<00:00, 12.50it/s]\n",
      "                 Class     Images  Instances      Box(P          R      mAP50  mAP50-95): 100%|██████████| 100/100 [00:09<00:00, 11.04it/s]\n"
     ]
    },
    {
     "name": "stdout",
     "output_type": "stream",
     "text": [
      "                   all        400     160000      0.852      0.655      0.767      0.685\n",
      "\n",
      "      Epoch    GPU_mem   box_loss   cls_loss   dfl_loss  Instances       Size\n"
     ]
    },
    {
     "name": "stderr",
     "output_type": "stream",
     "text": [
      "     85/500      5.65G      0.581     0.6744     0.8006       1221        768: 100%|██████████| 800/800 [01:04<00:00, 12.44it/s]\n",
      "                 Class     Images  Instances      Box(P          R      mAP50  mAP50-95): 100%|██████████| 100/100 [00:09<00:00, 10.95it/s]"
     ]
    },
    {
     "name": "stdout",
     "output_type": "stream",
     "text": [
      "                   all        400     160000      0.788      0.599      0.705      0.627\n"
     ]
    },
    {
     "name": "stderr",
     "output_type": "stream",
     "text": [
      "\n"
     ]
    },
    {
     "name": "stdout",
     "output_type": "stream",
     "text": [
      "\n",
      "      Epoch    GPU_mem   box_loss   cls_loss   dfl_loss  Instances       Size\n"
     ]
    },
    {
     "name": "stderr",
     "output_type": "stream",
     "text": [
      "     86/500      5.65G     0.5787     0.6776     0.7997       1614        768: 100%|██████████| 800/800 [01:04<00:00, 12.34it/s]\n",
      "                 Class     Images  Instances      Box(P          R      mAP50  mAP50-95): 100%|██████████| 100/100 [00:09<00:00, 11.02it/s]"
     ]
    },
    {
     "name": "stdout",
     "output_type": "stream",
     "text": [
      "                   all        400     160000      0.852      0.655      0.767      0.684\n"
     ]
    },
    {
     "name": "stderr",
     "output_type": "stream",
     "text": [
      "\n"
     ]
    },
    {
     "name": "stdout",
     "output_type": "stream",
     "text": [
      "\n",
      "      Epoch    GPU_mem   box_loss   cls_loss   dfl_loss  Instances       Size\n"
     ]
    },
    {
     "name": "stderr",
     "output_type": "stream",
     "text": [
      "     87/500      5.65G      0.561     0.6985      0.799        672        768: 100%|██████████| 800/800 [01:04<00:00, 12.41it/s]\n",
      "                 Class     Images  Instances      Box(P          R      mAP50  mAP50-95): 100%|██████████| 100/100 [00:09<00:00, 10.94it/s]"
     ]
    },
    {
     "name": "stdout",
     "output_type": "stream",
     "text": [
      "                   all        400     160000      0.834      0.644      0.754      0.672\n"
     ]
    },
    {
     "name": "stderr",
     "output_type": "stream",
     "text": [
      "\n"
     ]
    },
    {
     "name": "stdout",
     "output_type": "stream",
     "text": [
      "\n",
      "      Epoch    GPU_mem   box_loss   cls_loss   dfl_loss  Instances       Size\n"
     ]
    },
    {
     "name": "stderr",
     "output_type": "stream",
     "text": [
      "     88/500      5.65G     0.5859     0.6811     0.7991       1858        768: 100%|██████████| 800/800 [01:04<00:00, 12.35it/s]\n",
      "                 Class     Images  Instances      Box(P          R      mAP50  mAP50-95): 100%|██████████| 100/100 [00:09<00:00, 11.06it/s]\n"
     ]
    },
    {
     "name": "stdout",
     "output_type": "stream",
     "text": [
      "                   all        400     160000      0.871      0.667      0.781        0.7\n",
      "\n",
      "      Epoch    GPU_mem   box_loss   cls_loss   dfl_loss  Instances       Size\n"
     ]
    },
    {
     "name": "stderr",
     "output_type": "stream",
     "text": [
      "     89/500      5.65G     0.5778     0.6731        0.8        757        768: 100%|██████████| 800/800 [01:04<00:00, 12.42it/s]\n",
      "                 Class     Images  Instances      Box(P          R      mAP50  mAP50-95): 100%|██████████| 100/100 [00:08<00:00, 11.14it/s]\n"
     ]
    },
    {
     "name": "stdout",
     "output_type": "stream",
     "text": [
      "                   all        400     160000       0.86      0.661      0.773      0.691\n",
      "\n",
      "      Epoch    GPU_mem   box_loss   cls_loss   dfl_loss  Instances       Size\n"
     ]
    },
    {
     "name": "stderr",
     "output_type": "stream",
     "text": [
      "     90/500      5.65G      0.578     0.6643     0.8003       1004        768: 100%|██████████| 800/800 [01:04<00:00, 12.49it/s]\n",
      "                 Class     Images  Instances      Box(P          R      mAP50  mAP50-95): 100%|██████████| 100/100 [00:09<00:00, 10.94it/s]"
     ]
    },
    {
     "name": "stdout",
     "output_type": "stream",
     "text": [
      "                   all        400     160000       0.82      0.629      0.739      0.661\n"
     ]
    },
    {
     "name": "stderr",
     "output_type": "stream",
     "text": [
      "\n"
     ]
    },
    {
     "name": "stdout",
     "output_type": "stream",
     "text": [
      "\n",
      "      Epoch    GPU_mem   box_loss   cls_loss   dfl_loss  Instances       Size\n"
     ]
    },
    {
     "name": "stderr",
     "output_type": "stream",
     "text": [
      "     91/500      5.65G     0.5719     0.6612     0.7999       1220        768: 100%|██████████| 800/800 [01:04<00:00, 12.50it/s]\n",
      "                 Class     Images  Instances      Box(P          R      mAP50  mAP50-95): 100%|██████████| 100/100 [00:09<00:00, 10.97it/s]"
     ]
    },
    {
     "name": "stdout",
     "output_type": "stream",
     "text": [
      "                   all        400     160000      0.737      0.559      0.654      0.582\n"
     ]
    },
    {
     "name": "stderr",
     "output_type": "stream",
     "text": [
      "\n"
     ]
    },
    {
     "name": "stdout",
     "output_type": "stream",
     "text": [
      "\n",
      "      Epoch    GPU_mem   box_loss   cls_loss   dfl_loss  Instances       Size\n"
     ]
    },
    {
     "name": "stderr",
     "output_type": "stream",
     "text": [
      "     92/500      5.65G       0.57     0.6593      0.799       1106        768: 100%|██████████| 800/800 [01:04<00:00, 12.45it/s]\n",
      "                 Class     Images  Instances      Box(P          R      mAP50  mAP50-95): 100%|██████████| 100/100 [00:09<00:00, 11.03it/s]\n"
     ]
    },
    {
     "name": "stdout",
     "output_type": "stream",
     "text": [
      "                   all        400     160000      0.857       0.66      0.771       0.69\n",
      "\n",
      "      Epoch    GPU_mem   box_loss   cls_loss   dfl_loss  Instances       Size\n"
     ]
    },
    {
     "name": "stderr",
     "output_type": "stream",
     "text": [
      "     93/500      5.65G     0.5686     0.6669     0.7992        477        768: 100%|██████████| 800/800 [01:04<00:00, 12.42it/s]\n",
      "                 Class     Images  Instances      Box(P          R      mAP50  mAP50-95): 100%|██████████| 100/100 [00:09<00:00, 11.01it/s]"
     ]
    },
    {
     "name": "stdout",
     "output_type": "stream",
     "text": [
      "                   all        400     160000      0.825      0.632      0.743      0.664\n"
     ]
    },
    {
     "name": "stderr",
     "output_type": "stream",
     "text": [
      "\n"
     ]
    },
    {
     "name": "stdout",
     "output_type": "stream",
     "text": [
      "\n",
      "      Epoch    GPU_mem   box_loss   cls_loss   dfl_loss  Instances       Size\n"
     ]
    },
    {
     "name": "stderr",
     "output_type": "stream",
     "text": [
      "     94/500      5.65G     0.5778     0.6645     0.7988       1159        768: 100%|██████████| 800/800 [01:04<00:00, 12.43it/s]\n",
      "                 Class     Images  Instances      Box(P          R      mAP50  mAP50-95): 100%|██████████| 100/100 [00:09<00:00, 10.99it/s]"
     ]
    },
    {
     "name": "stdout",
     "output_type": "stream",
     "text": [
      "                   all        400     160000      0.866       0.66      0.776      0.695\n"
     ]
    },
    {
     "name": "stderr",
     "output_type": "stream",
     "text": [
      "\n"
     ]
    },
    {
     "name": "stdout",
     "output_type": "stream",
     "text": [
      "\n",
      "      Epoch    GPU_mem   box_loss   cls_loss   dfl_loss  Instances       Size\n"
     ]
    },
    {
     "name": "stderr",
     "output_type": "stream",
     "text": [
      "     95/500      5.65G     0.5578      0.671     0.7986       1871        768: 100%|██████████| 800/800 [01:04<00:00, 12.45it/s]\n",
      "                 Class     Images  Instances      Box(P          R      mAP50  mAP50-95): 100%|██████████| 100/100 [00:09<00:00, 11.10it/s]"
     ]
    },
    {
     "name": "stdout",
     "output_type": "stream",
     "text": [
      "                   all        400     160000      0.872      0.672      0.785      0.704\n"
     ]
    },
    {
     "name": "stderr",
     "output_type": "stream",
     "text": [
      "\n"
     ]
    },
    {
     "name": "stdout",
     "output_type": "stream",
     "text": [
      "\n",
      "      Epoch    GPU_mem   box_loss   cls_loss   dfl_loss  Instances       Size\n"
     ]
    },
    {
     "name": "stderr",
     "output_type": "stream",
     "text": [
      "     96/500      5.65G     0.5748     0.6555     0.7993        984        768: 100%|██████████| 800/800 [01:04<00:00, 12.39it/s]\n",
      "                 Class     Images  Instances      Box(P          R      mAP50  mAP50-95): 100%|██████████| 100/100 [00:09<00:00, 11.07it/s]\n"
     ]
    },
    {
     "name": "stdout",
     "output_type": "stream",
     "text": [
      "                   all        400     160000      0.814      0.625      0.734      0.654\n",
      "\n",
      "      Epoch    GPU_mem   box_loss   cls_loss   dfl_loss  Instances       Size\n"
     ]
    },
    {
     "name": "stderr",
     "output_type": "stream",
     "text": [
      "     97/500      5.65G     0.5714     0.6621     0.7983       1012        768: 100%|██████████| 800/800 [01:04<00:00, 12.40it/s]\n",
      "                 Class     Images  Instances      Box(P          R      mAP50  mAP50-95): 100%|██████████| 100/100 [00:09<00:00, 11.04it/s]\n"
     ]
    },
    {
     "name": "stdout",
     "output_type": "stream",
     "text": [
      "                   all        400     160000      0.872       0.67      0.783      0.703\n",
      "\n",
      "      Epoch    GPU_mem   box_loss   cls_loss   dfl_loss  Instances       Size\n"
     ]
    },
    {
     "name": "stderr",
     "output_type": "stream",
     "text": [
      "     98/500      5.65G     0.5722     0.6518      0.799        571        768: 100%|██████████| 800/800 [01:04<00:00, 12.42it/s]\n",
      "                 Class     Images  Instances      Box(P          R      mAP50  mAP50-95): 100%|██████████| 100/100 [00:09<00:00, 11.03it/s]\n"
     ]
    },
    {
     "name": "stdout",
     "output_type": "stream",
     "text": [
      "                   all        400     160000      0.835      0.642      0.752      0.671\n",
      "\n",
      "      Epoch    GPU_mem   box_loss   cls_loss   dfl_loss  Instances       Size\n"
     ]
    },
    {
     "name": "stderr",
     "output_type": "stream",
     "text": [
      "     99/500      5.65G     0.5666     0.6602     0.7992       1098        768: 100%|██████████| 800/800 [01:04<00:00, 12.42it/s]\n",
      "                 Class     Images  Instances      Box(P          R      mAP50  mAP50-95): 100%|██████████| 100/100 [00:08<00:00, 11.12it/s]\n"
     ]
    },
    {
     "name": "stdout",
     "output_type": "stream",
     "text": [
      "                   all        400     160000       0.88      0.673      0.789      0.706\n",
      "\n",
      "      Epoch    GPU_mem   box_loss   cls_loss   dfl_loss  Instances       Size\n"
     ]
    },
    {
     "name": "stderr",
     "output_type": "stream",
     "text": [
      "    100/500      5.65G     0.5687     0.6533     0.7987       1630        768: 100%|██████████| 800/800 [01:04<00:00, 12.44it/s]\n",
      "                 Class     Images  Instances      Box(P          R      mAP50  mAP50-95): 100%|██████████| 100/100 [00:08<00:00, 11.13it/s]"
     ]
    },
    {
     "name": "stdout",
     "output_type": "stream",
     "text": [
      "                   all        400     160000      0.824      0.632      0.742      0.661\n"
     ]
    },
    {
     "name": "stderr",
     "output_type": "stream",
     "text": [
      "\n"
     ]
    },
    {
     "name": "stdout",
     "output_type": "stream",
     "text": [
      "\u001b[34m\u001b[1mEarlyStopping: \u001b[0mTraining stopped early as no improvement observed in last 20 epochs. Best results observed at epoch 80, best model saved as best.pt.\n",
      "To update EarlyStopping(patience=20) pass a new patience value, i.e. `patience=300` or use `patience=0` to disable EarlyStopping.\n",
      "\n",
      "100 epochs completed in 2.156 hours.\n",
      "Optimizer stripped from dataset\\lego_yolo8m2\\weights\\last.pt, 52.3MB\n",
      "Optimizer stripped from dataset\\lego_yolo8m2\\weights\\best.pt, 52.3MB\n",
      "\n",
      "Validating dataset\\lego_yolo8m2\\weights\\best.pt...\n",
      "Ultralytics 8.3.137  Python-3.12.4 torch-2.7.0+cu118 CUDA:0 (NVIDIA GeForce RTX 4070 SUPER, 12282MiB)\n",
      "Model summary (fused): 92 layers, 25,955,560 parameters, 0 gradients, 79.3 GFLOPs\n"
     ]
    },
    {
     "name": "stderr",
     "output_type": "stream",
     "text": [
      "                 Class     Images  Instances      Box(P          R      mAP50  mAP50-95): 100%|██████████| 100/100 [00:55<00:00,  1.81it/s]\n"
     ]
    },
    {
     "name": "stdout",
     "output_type": "stream",
     "text": [
      "                   all        400     160000      0.888      0.681      0.795      0.713\n",
      "                 10247        400        800      0.891      0.694      0.822      0.752\n",
      "                 11090        400        800      0.939      0.578      0.761      0.616\n",
      "                 11211        400        800      0.742      0.378      0.574      0.516\n",
      "                 11212        400        800      0.996       0.97      0.985      0.951\n",
      "                 11214        400        800      0.751      0.335      0.543      0.483\n",
      "                 11458        400        800       0.91      0.542      0.741      0.657\n",
      "                 11476        400        800      0.791      0.695      0.771      0.686\n",
      "                 11477        400        800      0.749      0.321      0.541      0.474\n",
      "                 14704        400        800      0.965      0.769      0.878      0.776\n",
      "                 14719        400        800      0.943      0.889      0.931      0.849\n",
      "                 14769        400        800       0.97      0.881      0.936      0.847\n",
      "                 15068        400        800      0.934      0.796      0.886      0.811\n",
      "                 15070        400        800      0.943      0.435      0.693      0.552\n",
      "                 15100        400        800      0.947      0.759      0.866       0.72\n",
      "                 15379        400        800      0.972      0.906      0.951      0.792\n",
      "                 15392        400        800      0.848      0.432      0.648       0.51\n",
      "                 15535        400        800      0.922        0.8      0.879      0.798\n",
      "                 15573        400        800      0.889      0.642      0.791      0.706\n",
      "                 15712        400        800      0.782       0.35      0.573      0.448\n",
      "                 18651        400        800      0.741      0.393      0.574      0.495\n",
      "                 18654        400        800      0.932      0.309      0.622        0.5\n",
      "                 18674        400        800      0.842      0.593      0.723       0.64\n",
      "                 18677        400        800       0.82      0.507      0.671      0.583\n",
      "                 20482        400        800      0.921      0.175      0.549      0.411\n",
      "                 22388        400        800      0.888      0.139      0.515       0.42\n",
      "                 22885        400        800      0.935      0.806      0.883      0.828\n",
      "                  2357        400        800      0.953      0.829      0.906      0.819\n",
      "                 2412b        400        800      0.937      0.914      0.947      0.823\n",
      "                  2420        400        800      0.902       0.87      0.915       0.83\n",
      "                 24201        400        800      0.723      0.512       0.64      0.544\n",
      "                 24246        400        800      0.924      0.474      0.709      0.585\n",
      "                  2429        400        800      0.857      0.704      0.807      0.713\n",
      "                  2430        400        800      0.962      0.656      0.818      0.728\n",
      "                  2431        400        800      0.847      0.789      0.857      0.815\n",
      "                  2432        400        800      0.985      0.824       0.91      0.817\n",
      "                  2436        400        800      0.983      0.932      0.965      0.876\n",
      "                  2445        400        800      0.986      0.976      0.987      0.972\n",
      "                  2450        400        800      0.996      0.965      0.982      0.937\n",
      "                  2454        400        800      0.997      0.986      0.992      0.965\n",
      "                  2456        400        800      0.987      0.953      0.975      0.954\n",
      "                 24866        400        800      0.556    0.00625       0.28      0.129\n",
      "                 25269        400        800      0.913      0.627      0.778      0.616\n",
      "                  2540        400        800      0.964      0.896      0.943      0.854\n",
      "                 26047        400        800      0.954      0.573      0.772      0.659\n",
      "                  2654        400        800      0.951      0.866      0.925      0.812\n",
      "                 26601        400        800      0.989      0.916      0.957      0.872\n",
      "                 26603        400        800      0.915       0.88      0.922      0.881\n",
      "                 26604        400        800      0.698      0.203      0.449      0.368\n",
      "                  2780        400        800      0.589      0.195      0.375      0.317\n",
      "                 27925        400        800      0.984      0.859      0.927      0.813\n",
      "                 28192        400        800      0.885      0.675      0.806       0.68\n",
      "                  2877        400        800      0.924      0.775      0.874      0.785\n",
      "                  3001        400        800      0.979      0.925       0.96      0.925\n",
      "                  3002        400        800      0.976      0.946      0.969      0.914\n",
      "                  3003        400        800      0.939      0.854      0.915      0.848\n",
      "                  3004        400        800      0.556      0.188      0.348      0.322\n",
      "                  3005        400        800       0.58      0.131      0.335       0.29\n",
      "                  3008        400        800       0.99      0.966      0.982      0.955\n",
      "                  3009        400        800      0.955      0.973      0.976      0.943\n",
      "                  3010        400        800      0.709      0.766      0.732      0.695\n",
      "                 30136        400        800      0.955      0.719      0.851      0.761\n",
      "                  3020        400        800      0.887      0.899      0.918      0.886\n",
      "                  3021        400        800      0.912      0.897      0.929      0.883\n",
      "                  3022        400        800      0.868      0.485      0.699      0.651\n",
      "                  3023        400        800      0.842      0.333      0.587      0.531\n",
      "                  3024        400        800      0.807      0.246      0.524      0.444\n",
      "                  3031        400        800      0.994      0.976      0.987       0.97\n",
      "                  3032        400        800      0.992       0.98       0.99      0.979\n",
      "                  3034        400        800      0.981      0.966      0.982      0.967\n",
      "                  3035        400        800      0.996      0.984      0.991      0.982\n",
      "                  3037        400        800      0.942      0.981      0.981      0.907\n",
      "                 30374        400        800      0.935      0.771      0.861      0.762\n",
      "                  3039        400        800      0.901      0.921      0.944      0.829\n",
      "                  3040        400        800      0.902      0.821      0.867       0.71\n",
      "                 30413        400        800      0.963      0.856      0.923      0.861\n",
      "                 30414        400        800      0.778       0.66      0.746        0.7\n",
      "                 3062b        400        800      0.951      0.655      0.814      0.672\n",
      "                  3065        400        800      0.841      0.258      0.561      0.501\n",
      "                 3068b        400        800      0.885      0.752      0.841       0.79\n",
      "                 3069b        400        800      0.811      0.505      0.663        0.6\n",
      "                 3070b        400        800       0.81      0.599      0.707      0.595\n",
      "                 32000        400        800      0.983       0.78      0.887      0.799\n",
      "                 32013        400        800      0.961      0.647      0.812      0.685\n",
      "                 32028        400        800      0.912      0.816      0.891      0.806\n",
      "                 32054        400        800      0.914      0.785      0.874       0.76\n",
      "                 32062        400        800      0.829      0.636      0.756      0.627\n",
      "                 32064        400        800       0.91      0.806      0.886        0.8\n",
      "                 32073        400        800      0.959      0.907       0.95      0.868\n",
      "                 32123        400        800      0.788      0.065      0.426      0.307\n",
      "                 32140        400        800      0.977      0.955      0.976      0.909\n",
      "                 32184        400        800      0.929      0.899      0.937      0.828\n",
      "                 32278        400        800      0.992      0.978      0.988      0.965\n",
      "                 32316        400        800      0.947       0.96      0.976       0.92\n",
      "                 3245c        400        800       0.89      0.772       0.85      0.798\n",
      "                 32523        400        800       0.92      0.835      0.898      0.803\n",
      "                 32524        400        800      0.972      0.969       0.98      0.943\n",
      "                 32525        400        800      0.976      0.981      0.988      0.964\n",
      "                 32526        400        800      0.992      0.963      0.981      0.942\n",
      "                 32607        400        800      0.971      0.705      0.846       0.71\n",
      "                 32952        400        800      0.921      0.681      0.817      0.727\n",
      "                 33291        400        800      0.822      0.203       0.52      0.392\n",
      "                 33909        400        800      0.973      0.496      0.741      0.689\n",
      "                 34103        400        800      0.913       0.77      0.863      0.791\n",
      "                  3460        400        800      0.907      0.912       0.93      0.894\n",
      "                 35480        400        800      0.923      0.511      0.729      0.629\n",
      "                  3622        400        800       0.96      0.935      0.962       0.89\n",
      "                  3623        400        800      0.887       0.69      0.809      0.742\n",
      "                  3660        400        800      0.946      0.882      0.936      0.858\n",
      "                  3665        400        800      0.956      0.791      0.885      0.787\n",
      "                  3666        400        800        0.9       0.91      0.935      0.891\n",
      "                  3673        400        800      0.818     0.0112      0.415      0.336\n",
      "                  3700        400        800      0.978      0.713      0.852      0.773\n",
      "                  3701        400        800      0.972      0.938       0.96      0.905\n",
      "                  3705        400        800       0.74      0.676      0.705      0.632\n",
      "                  3710        400        800      0.854      0.802      0.858        0.8\n",
      "                  3713        400        800      0.897      0.535       0.73      0.574\n",
      "                  3749        400        800      0.286     0.0025      0.147      0.139\n",
      "                  3795        400        800      0.953      0.966      0.979      0.961\n",
      "                  3832        400        800      0.972      0.964      0.979      0.964\n",
      "                  3937        400        800      0.806      0.347      0.581      0.523\n",
      "                  3941        400        800      0.948      0.917      0.951      0.842\n",
      "                  3958        400        800      0.993      0.993      0.995      0.984\n",
      "                  4032        400        800      0.855      0.713      0.806      0.714\n",
      "                 40490        400        800      0.965      0.954      0.974      0.941\n",
      "                  4070        400        800      0.686      0.352      0.515      0.428\n",
      "                  4073        400        800        0.8      0.005      0.403      0.312\n",
      "                 4081b        400        800      0.864       0.58      0.742      0.617\n",
      "                  4085        400        800      0.834      0.545      0.715      0.605\n",
      "                  4162        400        800      0.908       0.88      0.923      0.891\n",
      "                 41677        400        800      0.876      0.715      0.817      0.678\n",
      "                 41740        400        800      0.903      0.874      0.923      0.856\n",
      "                 41769        400        800      0.523      0.314      0.353      0.333\n",
      "                 41770        400        800       0.49      0.367      0.338      0.319\n",
      "                 42003        400        800      0.933      0.823      0.895      0.792\n",
      "                  4274        400        800      0.929      0.573      0.761      0.591\n",
      "                  4286        400        800      0.967      0.892      0.942      0.845\n",
      "                 43093        400        800       0.75    0.00375      0.378      0.303\n",
      "                 43722        400        800       0.49      0.409      0.348      0.327\n",
      "                 43723        400        800      0.536      0.188      0.332      0.306\n",
      "                 44728        400        800      0.866      0.605      0.751      0.697\n",
      "                  4477        400        800      0.965      0.961      0.975      0.942\n",
      "                  4519        400        800      0.911      0.743      0.841      0.731\n",
      "                  4589        400        800      0.969      0.654      0.818      0.672\n",
      "                 4599b        400        800      0.983      0.816      0.905      0.719\n",
      "                  4740        400        800      0.865      0.657      0.781      0.656\n",
      "                 47457        400        800      0.956      0.818      0.899      0.825\n",
      "                 48336        400        800      0.955      0.931      0.958      0.868\n",
      "                  4865        400        800      0.899      0.545      0.735      0.654\n",
      "                 48729        400        800      0.958      0.749      0.867      0.707\n",
      "                 49668        400        800      0.919      0.511      0.725      0.604\n",
      "                 50950        400        800      0.949      0.816      0.897       0.79\n",
      "                 51739        400        800      0.995      0.963      0.981      0.915\n",
      "                 53451        400        800      0.961      0.435        0.7      0.456\n",
      "                 54200        400        800      0.818      0.185      0.503      0.416\n",
      "                 59443        400        800       0.77      0.739      0.778      0.666\n",
      "                 60470        400        800      0.952      0.812      0.893      0.798\n",
      "                 60474        400        800      0.997      0.993      0.995      0.953\n",
      "                 60478        400        800      0.964      0.812      0.901      0.811\n",
      "                 60479        400        800      0.971      0.966       0.98      0.953\n",
      "                 60481        400        800       0.98        0.9      0.947      0.867\n",
      "                 60483        400        800      0.914      0.743      0.851       0.74\n",
      "                 60592        400        800      0.992      0.944      0.971      0.903\n",
      "                 60601        400        800      0.989      0.879      0.938      0.855\n",
      "                  6091        400        800       0.95      0.776      0.879      0.764\n",
      "                 61252        400        800      0.872      0.315      0.594      0.487\n",
      "                  6134        400        800      0.769      0.826      0.864      0.787\n",
      "                 61409        400        800      0.923      0.828      0.899      0.763\n",
      "                 61678        400        800      0.939      0.824      0.901      0.812\n",
      "                 62462        400        800      0.936      0.534      0.747      0.651\n",
      "                 63864        400        800      0.903      0.806      0.883      0.812\n",
      "                 63868        400        800      0.924        0.8      0.885      0.778\n",
      "                 63965        400        800      0.983      0.881      0.938      0.848\n",
      "                 64644        400        800      0.981      0.834      0.913       0.77\n",
      "                  6536        400        800      0.921      0.674      0.814      0.684\n",
      "                  6541        400        800      0.847      0.297      0.582      0.496\n",
      "                  6558        400        800      0.683      0.369      0.524      0.461\n",
      "                  6632        400        800      0.947      0.901      0.938      0.827\n",
      "                  6636        400        800      0.903      0.861      0.908      0.878\n",
      "                 85080        400        800      0.896       0.72      0.828      0.731\n",
      "                 85861        400        800          1     0.0025      0.501      0.401\n",
      "                 85984        400        800      0.885       0.27      0.579      0.507\n",
      "                 87079        400        800      0.937      0.869      0.923      0.894\n",
      "                 87083        400        800      0.833      0.636      0.754      0.662\n",
      "                 87087        400        800        0.6     0.0187      0.308      0.234\n",
      "                 87552        400        800      0.863      0.858      0.898      0.836\n",
      "                 87580        400        800      0.854        0.6      0.764      0.713\n",
      "                 87620        400        800      0.856      0.845      0.882      0.785\n",
      "                 87994        400        800      0.944      0.739      0.854      0.744\n",
      "                 88072        400        800      0.878      0.551      0.735      0.644\n",
      "                 88323        400        800      0.992      0.985      0.991      0.932\n",
      "                 92280        400        800      0.768      0.372      0.582      0.507\n",
      "                 92946        400        800      0.862      0.721      0.812       0.65\n",
      "                 93273        400        800      0.935      0.896      0.939      0.832\n",
      "                 98138        400        800      0.976      0.403      0.691      0.565\n",
      "                 98283        400        800      0.966      0.666      0.824      0.743\n",
      "                 99206        400        800      0.955      0.826      0.904      0.841\n",
      "                 99207        400        800      0.776      0.661      0.747      0.688\n",
      "                 99563        400        800      0.762      0.665      0.716      0.633\n",
      "                 99780        400        800      0.766       0.52      0.645      0.582\n",
      "                 99781        400        800      0.857      0.456      0.671       0.61\n",
      "Speed: 0.4ms preprocess, 15.7ms inference, 0.0ms loss, 8.9ms postprocess per image\n",
      "Results saved to \u001b[1mdataset\\lego_yolo8m2\u001b[0m\n"
     ]
    }
   ],
   "source": [
    "# Select base model\n",
    "model = YOLO(f'yolov8m.pt')\n",
    "\n",
    "# Clear cache\n",
    "if cuda_available:\n",
    "    torch.cuda.empty_cache()\n",
    "\n",
    "# Start training\n",
    "results = model.train(\n",
    "    data=os.path.join(OUTPUT_DIR, \"dataset.yaml\"),\n",
    "    epochs=500,\n",
    "    imgsz=768,\n",
    "    batch=2,\n",
    "    patience=20,\n",
    "    device='cuda',\n",
    "    project=OUTPUT_DIR,\n",
    "    name='lego_yolo8m'\n",
    ")"
   ]
  },
  {
   "cell_type": "code",
   "execution_count": 5,
   "id": "3454644d",
   "metadata": {},
   "outputs": [
    {
     "name": "stdout",
     "output_type": "stream",
     "text": [
      "Ultralytics 8.3.137  Python-3.12.4 torch-2.7.0+cu118 CUDA:0 (NVIDIA GeForce RTX 4070 SUPER, 12282MiB)\n",
      "Model summary (fused): 92 layers, 25,955,560 parameters, 0 gradients, 79.3 GFLOPs\n",
      "\u001b[34m\u001b[1mval: \u001b[0mFast image access  (ping: 0.10.1 ms, read: 2802.6329.8 MB/s, size: 7577.3 KB)\n"
     ]
    },
    {
     "name": "stderr",
     "output_type": "stream",
     "text": [
      "\u001b[34m\u001b[1mval: \u001b[0mScanning D:\\GitHub\\MainProject\\dataset\\labels\\val.cache... 400 images, 0 backgrounds, 0 corrupt: 100%|██████████| 400/400 [00:00<?, ?it/s]\n",
      "                 Class     Images  Instances      Box(P          R      mAP50  mAP50-95): 100%|██████████| 200/200 [01:00<00:00,  3.30it/s]\n"
     ]
    },
    {
     "name": "stdout",
     "output_type": "stream",
     "text": [
      "                   all        400     160000      0.888      0.681      0.795      0.725\n",
      "                 10247        400        800      0.891      0.694      0.821       0.77\n",
      "                 11090        400        800      0.941       0.58      0.763       0.63\n",
      "                 11211        400        800      0.743      0.379      0.575      0.527\n",
      "                 11212        400        800      0.996       0.97      0.985      0.962\n",
      "                 11214        400        800      0.749      0.335      0.542      0.492\n",
      "                 11458        400        800       0.91      0.542      0.741      0.674\n",
      "                 11476        400        800       0.79      0.695      0.771      0.698\n",
      "                 11477        400        800      0.749      0.321      0.542      0.483\n",
      "                 14704        400        800      0.966       0.77      0.879      0.792\n",
      "                 14719        400        800      0.943      0.889      0.931      0.866\n",
      "                 14769        400        800       0.97      0.881      0.936      0.867\n",
      "                 15068        400        800      0.934      0.795      0.885      0.828\n",
      "                 15070        400        800      0.943      0.435      0.693      0.565\n",
      "                 15100        400        800      0.946       0.76      0.866      0.736\n",
      "                 15379        400        800      0.972      0.907      0.951      0.808\n",
      "                 15392        400        800       0.85      0.434      0.649      0.522\n",
      "                 15535        400        800      0.922      0.801       0.88       0.82\n",
      "                 15573        400        800      0.888      0.641       0.79      0.721\n",
      "                 15712        400        800      0.782      0.349      0.573      0.459\n",
      "                 18651        400        800       0.74      0.391      0.573      0.501\n",
      "                 18654        400        800      0.932       0.31      0.623      0.522\n",
      "                 18674        400        800      0.838       0.59      0.721      0.652\n",
      "                 18677        400        800       0.82      0.507      0.671      0.592\n",
      "                 20482        400        800      0.921      0.174      0.548      0.426\n",
      "                 22388        400        800      0.888      0.139      0.515      0.436\n",
      "                 22885        400        800      0.933      0.806      0.883      0.842\n",
      "                  2357        400        800      0.953      0.829      0.906      0.837\n",
      "                 2412b        400        800      0.937      0.914      0.947      0.839\n",
      "                  2420        400        800      0.902       0.87      0.915      0.846\n",
      "                 24201        400        800      0.723      0.512       0.64      0.554\n",
      "                 24246        400        800      0.924      0.474      0.709      0.604\n",
      "                  2429        400        800      0.857      0.704      0.807      0.724\n",
      "                  2430        400        800      0.962      0.657      0.819      0.743\n",
      "                  2431        400        800      0.847      0.789      0.857       0.83\n",
      "                  2432        400        800      0.985      0.824       0.91      0.831\n",
      "                  2436        400        800      0.983      0.932      0.965      0.887\n",
      "                  2445        400        800      0.986      0.976      0.987      0.973\n",
      "                  2450        400        800      0.996      0.965      0.982      0.949\n",
      "                  2454        400        800      0.997      0.986      0.992      0.971\n",
      "                  2456        400        800      0.987      0.953      0.975      0.958\n",
      "                 24866        400        800        0.6     0.0075      0.303      0.137\n",
      "                 25269        400        800      0.915      0.629      0.782      0.636\n",
      "                  2540        400        800      0.964      0.895      0.942      0.866\n",
      "                 26047        400        800      0.954      0.573      0.772      0.679\n",
      "                  2654        400        800      0.955      0.868      0.926       0.83\n",
      "                 26601        400        800      0.991      0.917      0.958      0.891\n",
      "                 26603        400        800      0.915       0.88      0.922      0.894\n",
      "                 26604        400        800        0.7      0.204      0.449      0.376\n",
      "                  2780        400        800      0.584      0.195      0.373      0.322\n",
      "                 27925        400        800      0.984      0.859      0.927      0.832\n",
      "                 28192        400        800      0.885      0.676      0.807       0.69\n",
      "                  2877        400        800      0.924      0.775      0.874      0.801\n",
      "                  3001        400        800      0.979      0.925       0.96      0.934\n",
      "                  3002        400        800      0.976      0.946      0.969      0.929\n",
      "                  3003        400        800      0.941      0.854      0.916      0.865\n",
      "                  3004        400        800      0.554      0.185      0.346      0.325\n",
      "                  3005        400        800       0.58      0.131      0.336      0.296\n",
      "                  3008        400        800       0.99      0.966      0.982      0.959\n",
      "                  3009        400        800      0.955      0.973      0.976      0.948\n",
      "                  3010        400        800      0.709      0.765      0.732      0.705\n",
      "                 30136        400        800      0.955      0.718       0.85      0.777\n",
      "                  3020        400        800      0.885      0.899      0.918      0.893\n",
      "                  3021        400        800      0.912      0.896      0.929      0.899\n",
      "                  3022        400        800      0.868      0.485      0.699      0.664\n",
      "                  3023        400        800      0.841      0.331      0.586      0.543\n",
      "                  3024        400        800      0.808      0.247      0.525       0.46\n",
      "                  3031        400        800      0.994      0.976      0.987      0.973\n",
      "                  3032        400        800      0.992       0.98       0.99      0.981\n",
      "                  3034        400        800      0.981      0.966      0.982      0.969\n",
      "                  3035        400        800      0.996      0.984      0.991      0.983\n",
      "                  3037        400        800      0.941      0.981      0.981      0.915\n",
      "                 30374        400        800      0.935       0.77      0.861      0.775\n",
      "                  3039        400        800      0.901      0.921      0.944      0.842\n",
      "                  3040        400        800      0.901       0.82      0.866      0.719\n",
      "                 30413        400        800      0.963      0.856      0.923      0.871\n",
      "                 30414        400        800      0.776       0.66      0.746      0.709\n",
      "                 3062b        400        800      0.951      0.654      0.813      0.692\n",
      "                  3065        400        800      0.844      0.258      0.562      0.512\n",
      "                 3068b        400        800      0.885      0.752      0.841      0.807\n",
      "                 3069b        400        800      0.811      0.505      0.663      0.619\n",
      "                 3070b        400        800       0.81      0.599      0.706      0.617\n",
      "                 32000        400        800      0.984       0.78      0.887      0.813\n",
      "                 32013        400        800      0.961      0.649      0.813      0.698\n",
      "                 32028        400        800      0.912      0.816      0.891      0.823\n",
      "                 32054        400        800      0.913      0.786      0.875      0.776\n",
      "                 32062        400        800      0.832      0.636      0.756      0.641\n",
      "                 32064        400        800       0.91      0.806      0.886      0.816\n",
      "                 32073        400        800      0.963      0.906       0.95      0.884\n",
      "                 32123        400        800      0.788      0.065      0.426      0.326\n",
      "                 32140        400        800      0.978      0.955      0.976       0.92\n",
      "                 32184        400        800      0.929      0.899      0.937      0.842\n",
      "                 32278        400        800      0.994      0.978      0.988      0.967\n",
      "                 32316        400        800      0.947       0.96      0.976      0.931\n",
      "                 3245c        400        800      0.892      0.771       0.85      0.816\n",
      "                 32523        400        800       0.92      0.835      0.898       0.82\n",
      "                 32524        400        800      0.972      0.969       0.98      0.948\n",
      "                 32525        400        800      0.976      0.981      0.988      0.967\n",
      "                 32526        400        800      0.992      0.963      0.981      0.949\n",
      "                 32607        400        800      0.971      0.706      0.847       0.73\n",
      "                 32952        400        800      0.921      0.681      0.817      0.738\n",
      "                 33291        400        800      0.817      0.201      0.515       0.41\n",
      "                 33909        400        800      0.973      0.496      0.741      0.704\n",
      "                 34103        400        800      0.913       0.77      0.863      0.808\n",
      "                  3460        400        800      0.907      0.912       0.93      0.898\n",
      "                 35480        400        800      0.923      0.511      0.729      0.647\n",
      "                  3622        400        800       0.96      0.935      0.962      0.909\n",
      "                  3623        400        800      0.887       0.69      0.809      0.756\n",
      "                  3660        400        800      0.946      0.884      0.937      0.873\n",
      "                  3665        400        800      0.955      0.791      0.885      0.803\n",
      "                  3666        400        800      0.901       0.91      0.935        0.9\n",
      "                  3673        400        800      0.818     0.0112      0.415      0.332\n",
      "                  3700        400        800      0.978      0.713      0.852      0.791\n",
      "                  3701        400        800      0.972      0.938       0.96      0.917\n",
      "                  3705        400        800      0.743      0.681      0.708      0.646\n",
      "                  3710        400        800      0.853      0.802      0.858      0.812\n",
      "                  3713        400        800      0.897      0.536      0.731      0.592\n",
      "                  3749        400        800      0.286     0.0025      0.147      0.139\n",
      "                  3795        400        800      0.953      0.966      0.979      0.965\n",
      "                  3832        400        800      0.972      0.964      0.979      0.967\n",
      "                  3937        400        800      0.806      0.347      0.581      0.535\n",
      "                  3941        400        800      0.948      0.917      0.951      0.858\n",
      "                  3958        400        800      0.993      0.993      0.995      0.984\n",
      "                  4032        400        800      0.854       0.71      0.805       0.73\n",
      "                 40490        400        800      0.965      0.954      0.974      0.948\n",
      "                  4070        400        800      0.684      0.351      0.514      0.434\n",
      "                  4073        400        800        0.8      0.005      0.403      0.333\n",
      "                 4081b        400        800      0.864      0.581      0.743      0.632\n",
      "                  4085        400        800      0.832      0.545      0.715      0.619\n",
      "                  4162        400        800      0.908       0.88      0.923      0.896\n",
      "                 41677        400        800      0.876      0.715      0.817      0.698\n",
      "                 41740        400        800      0.903      0.874      0.923      0.869\n",
      "                 41769        400        800      0.526      0.316      0.355      0.339\n",
      "                 41770        400        800      0.488      0.366      0.337      0.321\n",
      "                 42003        400        800      0.935      0.824      0.896      0.807\n",
      "                  4274        400        800      0.931      0.573      0.762      0.615\n",
      "                  4286        400        800      0.967      0.892      0.943      0.859\n",
      "                 43093        400        800       0.75    0.00375      0.378      0.303\n",
      "                 43722        400        800       0.49      0.404      0.347       0.33\n",
      "                 43723        400        800      0.534      0.189      0.331      0.309\n",
      "                 44728        400        800      0.864      0.604       0.75      0.707\n",
      "                  4477        400        800      0.964      0.961      0.975      0.947\n",
      "                  4519        400        800      0.911      0.744      0.842      0.745\n",
      "                  4589        400        800      0.969      0.656      0.819      0.692\n",
      "                 4599b        400        800       0.98      0.814      0.902      0.738\n",
      "                  4740        400        800      0.864      0.654      0.779      0.667\n",
      "                 47457        400        800      0.956      0.816      0.899      0.839\n",
      "                 48336        400        800      0.955      0.931      0.958      0.883\n",
      "                  4865        400        800      0.899      0.545      0.735      0.664\n",
      "                 48729        400        800      0.958       0.75      0.867      0.724\n",
      "                 49668        400        800      0.919      0.511      0.725      0.617\n",
      "                 50950        400        800      0.949      0.815      0.896      0.806\n",
      "                 51739        400        800      0.995      0.963      0.981      0.927\n",
      "                 53451        400        800      0.964      0.436      0.702      0.471\n",
      "                 54200        400        800      0.818      0.185      0.503       0.43\n",
      "                 59443        400        800      0.768      0.738      0.777      0.677\n",
      "                 60470        400        800      0.952      0.812      0.893      0.813\n",
      "                 60474        400        800      0.997      0.993      0.995      0.959\n",
      "                 60478        400        800      0.963      0.812      0.901      0.829\n",
      "                 60479        400        800      0.971      0.966       0.98      0.958\n",
      "                 60481        400        800       0.98        0.9      0.947       0.88\n",
      "                 60483        400        800      0.917      0.743      0.852      0.757\n",
      "                 60592        400        800      0.992      0.944      0.971      0.916\n",
      "                 60601        400        800      0.989      0.877      0.938      0.874\n",
      "                  6091        400        800       0.95      0.776      0.879      0.776\n",
      "                 61252        400        800      0.872      0.314      0.593      0.501\n",
      "                  6134        400        800      0.767      0.826      0.864      0.801\n",
      "                 61409        400        800      0.923      0.828      0.899      0.779\n",
      "                 61678        400        800      0.936      0.825      0.901      0.824\n",
      "                 62462        400        800      0.937      0.535      0.748      0.668\n",
      "                 63864        400        800      0.902      0.807      0.883      0.832\n",
      "                 63868        400        800      0.925        0.8      0.885      0.793\n",
      "                 63965        400        800      0.989      0.881      0.939      0.859\n",
      "                 64644        400        800      0.981      0.834      0.913      0.788\n",
      "                  6536        400        800      0.925      0.674      0.815      0.699\n",
      "                  6541        400        800      0.847      0.297      0.582       0.51\n",
      "                  6558        400        800      0.679      0.367      0.522      0.467\n",
      "                  6632        400        800      0.947      0.901      0.938      0.845\n",
      "                  6636        400        800      0.903      0.861      0.908      0.883\n",
      "                 85080        400        800      0.897       0.72      0.828      0.744\n",
      "                 85861        400        800          1     0.0025      0.501      0.401\n",
      "                 85984        400        800      0.882      0.271      0.579      0.515\n",
      "                 87079        400        800      0.937      0.869      0.923      0.904\n",
      "                 87083        400        800      0.833      0.636      0.754       0.67\n",
      "                 87087        400        800      0.577     0.0187      0.296      0.224\n",
      "                 87552        400        800      0.863      0.858      0.898      0.845\n",
      "                 87580        400        800      0.857        0.6      0.765      0.728\n",
      "                 87620        400        800      0.856      0.845      0.882      0.801\n",
      "                 87994        400        800      0.944      0.738      0.854      0.758\n",
      "                 88072        400        800      0.877      0.551      0.734      0.655\n",
      "                 88323        400        800      0.992      0.985      0.991      0.941\n",
      "                 92280        400        800      0.768      0.372      0.582      0.517\n",
      "                 92946        400        800      0.863      0.723      0.813      0.659\n",
      "                 93273        400        800      0.932      0.896      0.939      0.847\n",
      "                 98138        400        800      0.976      0.403      0.691      0.585\n",
      "                 98283        400        800      0.966      0.666      0.824      0.759\n",
      "                 99206        400        800      0.957      0.826      0.905      0.852\n",
      "                 99207        400        800      0.777      0.661      0.747      0.698\n",
      "                 99563        400        800      0.762      0.664      0.716      0.646\n",
      "                 99780        400        800      0.765       0.52      0.644      0.594\n",
      "                 99781        400        800      0.857      0.458      0.672      0.624\n",
      "Speed: 0.4ms preprocess, 21.4ms inference, 0.0ms loss, 9.7ms postprocess per image\n",
      "Results saved to \u001b[1mdataset\\lego_yolo8m22\u001b[0m\n",
      "mAP@50-95: 0.725\n",
      "mAP@50: 0.795\n",
      "mAP@75: 0.781\n"
     ]
    }
   ],
   "source": [
    "metrics = model.val(data=os.path.join(OUTPUT_DIR, \"dataset.yaml\"), split='val') \n",
    "\n",
    "# Show key metrics\n",
    "print(f\"mAP@50-95: {metrics.box.map:.3f}\")\n",
    "print(f\"mAP@50: {metrics.box.map50:.3f}\")\n",
    "print(f\"mAP@75: {metrics.box.map75:.3f}\")"
   ]
  }
 ],
 "metadata": {
  "kernelspec": {
   "display_name": ".venv",
   "language": "python",
   "name": "python3"
  },
  "language_info": {
   "codemirror_mode": {
    "name": "ipython",
    "version": 3
   },
   "file_extension": ".py",
   "mimetype": "text/x-python",
   "name": "python",
   "nbconvert_exporter": "python",
   "pygments_lexer": "ipython3",
   "version": "3.12.4"
  }
 },
 "nbformat": 4,
 "nbformat_minor": 5
}
