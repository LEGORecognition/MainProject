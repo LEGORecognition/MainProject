{
 "cells": [
  {
   "cell_type": "code",
   "execution_count": 2,
   "id": "4d9a6e53",
   "metadata": {},
   "outputs": [],
   "source": [
    "import os\n",
    "import glob\n",
    "import random\n",
    "import xml.etree.ElementTree as ET\n",
    "from PIL import Image"
   ]
  },
  {
   "cell_type": "code",
   "execution_count": 3,
   "id": "97abd5a4",
   "metadata": {},
   "outputs": [],
   "source": [
    "IMAGE_DIR = \"images\"                 # Directory containing PNG images\n",
    "XML_DIR = \"annotations\"              # Directory containing XML annotations\n",
    "OUTPUT_DIR = \"cnn_dataset\"          # Directory to save the prepared dataset"
   ]
  },
  {
   "cell_type": "code",
   "execution_count": 4,
   "id": "5cb4252e",
   "metadata": {},
   "outputs": [
    {
     "name": "stdout",
     "output_type": "stream",
     "text": [
      "Found 40 unique brick classes: ['m0', 'm1', 'm10', 'm11', 'm12', 'm13', 'm14', 'm15', 'm16', 'm17', 'm18', 'm19', 'm2', 'm20', 'm21', 'm22', 'm23', 'm24', 'm25', 'm26', 'm27', 'm28', 'm29', 'm3', 'm30', 'm31', 'm32', 'm33', 'm34', 'm35', 'm36', 'm37', 'm38', 'm39', 'm4', 'm5', 'm6', 'm7', 'm8', 'm9']\n",
      "Successfully created directories for each color class in cnn_dataset/train and cnn_dataset/test.\n"
     ]
    }
   ],
   "source": [
    "# Extract unique color classes from XML annotations\n",
    "color_classes = set()\n",
    "for xml_file in glob.glob(os.path.join(XML_DIR, \"*.xml\")):\n",
    "    tree = ET.parse(xml_file)\n",
    "    root = tree.getroot()\n",
    "    \n",
    "    for obj in root.findall('object'):\n",
    "        color = obj.find('color').text\n",
    "        if color:\n",
    "            color_classes.add(color)\n",
    "\n",
    "color_classes = sorted(list(color_classes))\n",
    "\n",
    "print(f\"Found {len(color_classes)} unique brick classes: {color_classes}\")\n",
    "\n",
    "# Create directories for each color class\n",
    "for color in color_classes:\n",
    "    os.makedirs(os.path.join(OUTPUT_DIR, 'train', color), exist_ok=True)\n",
    "    os.makedirs(os.path.join(OUTPUT_DIR, 'test', color), exist_ok=True) \n",
    "print(f\"Successfully created directories for each color class in {OUTPUT_DIR}/train and {OUTPUT_DIR}/test.\")"
   ]
  },
  {
   "cell_type": "code",
   "execution_count": null,
   "id": "1eda2eb6",
   "metadata": {},
   "outputs": [],
   "source": [
    "# Change this to multithreading if possible (one one thread it took 12h to run half of the dataset lmao)\n",
    "def extract_bricks_from_image(file_id, dataset_type):\n",
    "    try:\n",
    "        tree = ET.parse(os.path.join(XML_DIR, f\"{file_id}.xml\"))\n",
    "        root = tree.getroot()\n",
    "        \n",
    "        for obj in root.findall('object'):\n",
    "            try:\n",
    "                # Get color\n",
    "                color_class = obj.find('color').text\n",
    "                if not color_class:\n",
    "                    continue\n",
    "                \n",
    "                # Get bounding box coordinates\n",
    "                bndbox = obj.find('bndbox')\n",
    "                xmin = float(bndbox.find('xmin').text)\n",
    "                ymin = float(bndbox.find('ymin').text)\n",
    "                xmax = float(bndbox.find('xmax').text)\n",
    "                ymax = float(bndbox.find('ymax').text)\n",
    "                \n",
    "                # Load the image\n",
    "                img_path = os.path.join(IMAGE_DIR, f\"{file_id}.png\")\n",
    "                if not os.path.exists(img_path):\n",
    "                    continue\n",
    "                    \n",
    "                img = Image.open(img_path)\n",
    "                image_width, image_height = img.size\n",
    "                \n",
    "                # Ensure coordinates are within image bounds\n",
    "                xmin = max(0, int(xmin))\n",
    "                ymin = max(0, int(ymin))\n",
    "                xmax = min(image_width, int(xmax))\n",
    "                ymax = min(image_height, int(ymax))\n",
    "                \n",
    "                # Check if the box is valid (has positive width and height)\n",
    "                if xmax <= xmin or ymax <= ymin:\n",
    "                    continue\n",
    "                \n",
    "                # Crop the image to the bounding box\n",
    "                brick_img = img.crop((xmin, ymin, xmax, ymax))\n",
    "                \n",
    "                # Create a unique filename for the brick\n",
    "                output_filename = f\"{file_id}_{xmin}_{ymin}_{xmax}_{ymax}.png\"\n",
    "                output_path = os.path.join(OUTPUT_DIR, dataset_type, color_class, output_filename)\n",
    "                \n",
    "                # Save the cropped image\n",
    "                brick_img.save(output_path)\n",
    "            except Exception as e:\n",
    "                print(f\"Error processing object in {file_id}: {e}\")\n",
    "    except Exception as e:\n",
    "        print(f\"Error processing file {file_id}: {e}\")"
   ]
  },
  {
   "cell_type": "code",
   "execution_count": null,
   "id": "10b81b1e",
   "metadata": {},
   "outputs": [],
   "source": [
    "# Get all image files\n",
    "image_files = sorted(glob.glob(os.path.join(IMAGE_DIR, \"*.png\")))\n",
    "print(f\"Found {len(image_files)} image files\")\n",
    "\n",
    "# Randomly split into train and validation sets (80:20)\n",
    "random.seed(42)  # for reproducibility\n",
    "random.shuffle(image_files)\n",
    "split_idx = int(0.8 * len(image_files))\n",
    "train_images = image_files[:split_idx]\n",
    "test_images = image_files[split_idx:]\n",
    "\n",
    "print(f\"Training images: {len(train_images)}\")\n",
    "print(f\"Validation images: {len(test_images)}\")\n",
    "\n",
    "for img_path in train_images:\n",
    "    file_id = os.path.splitext(os.path.basename(img_path))[0]\n",
    "    extract_bricks_from_image(file_id, 'train')\n",
    "\n",
    "for img_path in test_images:\n",
    "    file_id = os.path.splitext(os.path.basename(img_path))[0]\n",
    "    extract_bricks_from_image(file_id, 'test')\n",
    "\n",
    "print(\"Dataset preparation complete!\")"
   ]
  }
 ],
 "metadata": {
  "kernelspec": {
   "display_name": ".venv",
   "language": "python",
   "name": "python3"
  },
  "language_info": {
   "codemirror_mode": {
    "name": "ipython",
    "version": 3
   },
   "file_extension": ".py",
   "mimetype": "text/x-python",
   "name": "python",
   "nbconvert_exporter": "python",
   "pygments_lexer": "ipython3",
   "version": "3.12.4"
  }
 },
 "nbformat": 4,
 "nbformat_minor": 5
}
